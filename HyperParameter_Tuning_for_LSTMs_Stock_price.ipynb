{
  "cells": [
    {
      "cell_type": "markdown",
      "metadata": {
        "id": "uF4n5_q2wr6c"
      },
      "source": [
        "<center>\n",
        "    <h1>Hyperparameter Tuning for Long Short-Term Memory Networks (LSTMs)</h1>\n",
        "</center>"
      ]
    },
    {
      "cell_type": "markdown",
      "metadata": {
        "id": "-HCX04Cuwr6i"
      },
      "source": [
        "# Brief Recap"
      ]
    },
    {
      "cell_type": "markdown",
      "metadata": {
        "id": "onBDvnrjwr6j"
      },
      "source": [
        "- Hyperparameter tuning is a crucial aspect of developing effective LSTM models.\n",
        "- While the model learns its internal parameters during training, hyperparameters are the configuration settings we must specify beforehand.\n",
        "- These settings significantly impact the model's learning process and final performance."
      ]
    },
    {
      "cell_type": "markdown",
      "metadata": {
        "id": "rqysBffSwr6k"
      },
      "source": [
        "## Why Hyperparameter Tuning Matters"
      ]
    },
    {
      "cell_type": "markdown",
      "metadata": {
        "id": "A8Un9-tQwr6n"
      },
      "source": [
        "Understanding hyperparameter tuning is essential because:\n",
        "\n",
        "1. Different problems require different hyperparameter configurations\n",
        "2. The wrong hyperparameters can lead to poor model performance or failed training\n",
        "3. Optimal hyperparameters can significantly improve model accuracy and training efficiency\n",
        "4. Proper tuning helps prevent overfitting and underfitting"
      ]
    },
    {
      "cell_type": "markdown",
      "metadata": {
        "id": "a-u8tsl3wr6q"
      },
      "source": [
        "<center>\n",
        "    <img src=\"static/image2.gif\" alt=\"Hyperparameter Tuning\" style=\"width:50%;\">\n",
        "</center>"
      ]
    },
    {
      "cell_type": "markdown",
      "metadata": {
        "id": "ccnimC5Ewr6r"
      },
      "source": [
        "# Key LSTM Hyperparameters"
      ]
    },
    {
      "cell_type": "markdown",
      "metadata": {
        "id": "c3R7AF_Kwr6s"
      },
      "source": [
        "## Network Architecture Hyperparameters"
      ]
    },
    {
      "cell_type": "markdown",
      "metadata": {
        "id": "ZW--tLSAwr6t"
      },
      "source": [
        "### Number of LSTM Layers"
      ]
    },
    {
      "cell_type": "markdown",
      "metadata": {
        "id": "Rmi0DdXywr6u"
      },
      "source": [
        "- Controls the model's depth and capacity to learn complex patterns\n",
        "- More layers can capture more abstract features but increase computational cost\n",
        "- Typical range: 1-3 layers for most applications\n",
        "- Consider starting with one layer and adding more if needed"
      ]
    },
    {
      "cell_type": "markdown",
      "metadata": {
        "id": "A2ZQM6XLwr6v"
      },
      "source": [
        "### Number of Hidden Units"
      ]
    },
    {
      "cell_type": "markdown",
      "metadata": {
        "id": "MGHL7-bdwr6w"
      },
      "source": [
        "- Determines the dimensionality of the LSTM layer's output\n",
        "- Affects the model's capacity to learn patterns\n",
        "- Larger numbers can capture more complex relationships but require more data\n",
        "- Common ranges: 32, 64, 128, 256, 512\n",
        "- Rule of thumb: Start with the square root of your input dimension"
      ]
    },
    {
      "cell_type": "markdown",
      "metadata": {
        "id": "nTBklx-Iwr6w"
      },
      "source": [
        "### Dropout Rate"
      ]
    },
    {
      "cell_type": "markdown",
      "metadata": {
        "id": "L7bJ5kUTwr6x"
      },
      "source": [
        "- Helps prevent overfitting by randomly deactivating neurons during training\n",
        "- Applied to both input and recurrent connections\n",
        "- Typical range: 0.1 to 0.5\n",
        "- Start with 0.2 and adjust based on validation performance"
      ]
    },
    {
      "cell_type": "markdown",
      "metadata": {
        "id": "9SYIHNMzwr6x"
      },
      "source": [
        "## Training Hyperparameters"
      ]
    },
    {
      "cell_type": "markdown",
      "metadata": {
        "id": "98k41-03wr6y"
      },
      "source": [
        "### Batch Size"
      ]
    },
    {
      "cell_type": "markdown",
      "metadata": {
        "id": "sn4LgL-Uwr6y"
      },
      "source": [
        "- Number of samples processed before model update\n",
        "- Affects training stability and speed\n",
        "- Smaller batches: More frequent updates, noisier gradients\n",
        "- Larger batches: More stable updates, better gradient estimates\n",
        "- Common values: 16, 32, 64, 128, 256\n",
        "- Memory constraints often limit maximum batch size"
      ]
    },
    {
      "cell_type": "markdown",
      "metadata": {
        "id": "O-RpD0m8wr6z"
      },
      "source": [
        "### Learning Rate"
      ]
    },
    {
      "cell_type": "markdown",
      "metadata": {
        "id": "02ezVpRbwr6z"
      },
      "source": [
        "- Controls how much to adjust the model in response to errors\n",
        "- Critical for model convergence\n",
        "- Too high: Unstable training\n",
        "- Too low: Slow convergence\n",
        "- Typical range: 0.1 to 0.0001\n",
        "- Common starting point: 0.001"
      ]
    },
    {
      "cell_type": "markdown",
      "metadata": {
        "id": "TwdsNGqNwr60"
      },
      "source": [
        "### Number of Epochs"
      ]
    },
    {
      "cell_type": "markdown",
      "metadata": {
        "id": "6uLRrsv3wr60"
      },
      "source": [
        "- Complete passes through the training dataset\n",
        "- Too few: Underfitting\n",
        "- Too many: Overfitting\n",
        "- Use early stopping to determine optimal number\n",
        "- Start with 50-100 epochs with early stopping"
      ]
    },
    {
      "cell_type": "markdown",
      "metadata": {
        "id": "5nFzqEUrwr60"
      },
      "source": [
        "# Implementing Hyperparameter Tuning"
      ]
    },
    {
      "cell_type": "markdown",
      "metadata": {
        "id": "-ph0ZiRtwr61"
      },
      "source": [
        "## Method 1: Grid Search"
      ]
    },
    {
      "cell_type": "markdown",
      "metadata": {
        "id": "dYpC7bhrwr61"
      },
      "source": [
        "Let's implement a grid search for LSTM hyperparameters using the keras-tuner library."
      ]
    },
    {
      "cell_type": "code",
      "source": [
        "!pip install keras-tuner"
      ],
      "metadata": {
        "colab": {
          "base_uri": "https://localhost:8080/"
        },
        "id": "JS1hHFQU1ged",
        "outputId": "6de353e7-b85b-45a3-ae84-76ff5f135635"
      },
      "execution_count": 2,
      "outputs": [
        {
          "output_type": "stream",
          "name": "stdout",
          "text": [
            "Collecting keras-tuner\n",
            "  Downloading keras_tuner-1.4.7-py3-none-any.whl.metadata (5.4 kB)\n",
            "Requirement already satisfied: keras in /usr/local/lib/python3.11/dist-packages (from keras-tuner) (3.8.0)\n",
            "Requirement already satisfied: packaging in /usr/local/lib/python3.11/dist-packages (from keras-tuner) (24.2)\n",
            "Requirement already satisfied: requests in /usr/local/lib/python3.11/dist-packages (from keras-tuner) (2.32.3)\n",
            "Collecting kt-legacy (from keras-tuner)\n",
            "  Downloading kt_legacy-1.0.5-py3-none-any.whl.metadata (221 bytes)\n",
            "Requirement already satisfied: absl-py in /usr/local/lib/python3.11/dist-packages (from keras->keras-tuner) (1.4.0)\n",
            "Requirement already satisfied: numpy in /usr/local/lib/python3.11/dist-packages (from keras->keras-tuner) (1.26.4)\n",
            "Requirement already satisfied: rich in /usr/local/lib/python3.11/dist-packages (from keras->keras-tuner) (13.9.4)\n",
            "Requirement already satisfied: namex in /usr/local/lib/python3.11/dist-packages (from keras->keras-tuner) (0.0.8)\n",
            "Requirement already satisfied: h5py in /usr/local/lib/python3.11/dist-packages (from keras->keras-tuner) (3.12.1)\n",
            "Requirement already satisfied: optree in /usr/local/lib/python3.11/dist-packages (from keras->keras-tuner) (0.14.0)\n",
            "Requirement already satisfied: ml-dtypes in /usr/local/lib/python3.11/dist-packages (from keras->keras-tuner) (0.4.1)\n",
            "Requirement already satisfied: charset-normalizer<4,>=2 in /usr/local/lib/python3.11/dist-packages (from requests->keras-tuner) (3.4.1)\n",
            "Requirement already satisfied: idna<4,>=2.5 in /usr/local/lib/python3.11/dist-packages (from requests->keras-tuner) (3.10)\n",
            "Requirement already satisfied: urllib3<3,>=1.21.1 in /usr/local/lib/python3.11/dist-packages (from requests->keras-tuner) (2.3.0)\n",
            "Requirement already satisfied: certifi>=2017.4.17 in /usr/local/lib/python3.11/dist-packages (from requests->keras-tuner) (2025.1.31)\n",
            "Requirement already satisfied: typing-extensions>=4.5.0 in /usr/local/lib/python3.11/dist-packages (from optree->keras->keras-tuner) (4.12.2)\n",
            "Requirement already satisfied: markdown-it-py>=2.2.0 in /usr/local/lib/python3.11/dist-packages (from rich->keras->keras-tuner) (3.0.0)\n",
            "Requirement already satisfied: pygments<3.0.0,>=2.13.0 in /usr/local/lib/python3.11/dist-packages (from rich->keras->keras-tuner) (2.18.0)\n",
            "Requirement already satisfied: mdurl~=0.1 in /usr/local/lib/python3.11/dist-packages (from markdown-it-py>=2.2.0->rich->keras->keras-tuner) (0.1.2)\n",
            "Downloading keras_tuner-1.4.7-py3-none-any.whl (129 kB)\n",
            "\u001b[2K   \u001b[90m━━━━━━━━━━━━━━━━━━━━━━━━━━━━━━━━━━━━━━━━\u001b[0m \u001b[32m129.1/129.1 kB\u001b[0m \u001b[31m3.9 MB/s\u001b[0m eta \u001b[36m0:00:00\u001b[0m\n",
            "\u001b[?25hDownloading kt_legacy-1.0.5-py3-none-any.whl (9.6 kB)\n",
            "Installing collected packages: kt-legacy, keras-tuner\n",
            "Successfully installed keras-tuner-1.4.7 kt-legacy-1.0.5\n"
          ]
        }
      ]
    },
    {
      "cell_type": "code",
      "execution_count": 3,
      "metadata": {
        "id": "8bPvLV7swr62"
      },
      "outputs": [],
      "source": [
        "import keras_tuner as kt\n",
        "from tensorflow import keras\n",
        "\n",
        "def build_model(hp):\n",
        "    model = keras.Sequential()\n",
        "\n",
        "    # Tune number of LSTM layers\n",
        "    for i in range(hp.Int('num_layers', 1, 3)):\n",
        "        model.add(keras.layers.LSTM(\n",
        "            units=hp.Int(f'units_{i}', 32, 512, step=32),\n",
        "            return_sequences=i != hp.Int('num_layers', 1, 3) - 1,\n",
        "            dropout=hp.Float(f'dropout_{i}', 0.1, 0.5, step=0.1)\n",
        "        ))\n",
        "\n",
        "    model.add(keras.layers.Dense(1))\n",
        "\n",
        "    model.compile(\n",
        "        optimizer=keras.optimizers.Adam(\n",
        "            hp.Float('learning_rate', 1e-4, 1e-2, sampling='log')\n",
        "        ),\n",
        "        loss='mean_squared_error'\n",
        "    )\n",
        "\n",
        "    return model\n",
        "\n",
        "# Create the tuner\n",
        "tuner = kt.GridSearch(\n",
        "    build_model,\n",
        "    objective='val_loss',\n",
        "    max_trials=10\n",
        ")"
      ]
    },
    {
      "cell_type": "markdown",
      "metadata": {
        "id": "c2oyW3C8wr64"
      },
      "source": [
        "## Method 2: Random Search"
      ]
    },
    {
      "cell_type": "markdown",
      "metadata": {
        "id": "iZLSaJGQwr65"
      },
      "source": [
        "Random search can be more efficient than grid search for high-dimensional spaces."
      ]
    },
    {
      "cell_type": "code",
      "execution_count": 4,
      "metadata": {
        "id": "1Qv85-vzwr65"
      },
      "outputs": [],
      "source": [
        "# Create random search tuner\n",
        "random_tuner = kt.RandomSearch(\n",
        "    build_model,\n",
        "    objective='val_loss',\n",
        "    max_trials=10\n",
        ")"
      ]
    },
    {
      "cell_type": "markdown",
      "metadata": {
        "id": "O5DMPaO0wr66"
      },
      "source": [
        "## Method 3: Bayesian Optimization"
      ]
    },
    {
      "cell_type": "markdown",
      "metadata": {
        "id": "XyUFNH1ywr67"
      },
      "source": [
        "Bayesian optimization uses past trials to inform future hyperparameter choices."
      ]
    },
    {
      "cell_type": "code",
      "execution_count": 5,
      "metadata": {
        "id": "v7KVp8gGwr67"
      },
      "outputs": [],
      "source": [
        "# Create Bayesian optimization tuner\n",
        "bayesian_tuner = kt.BayesianOptimization(\n",
        "    build_model,\n",
        "    objective='val_loss',\n",
        "    max_trials=10\n",
        ")"
      ]
    },
    {
      "cell_type": "markdown",
      "metadata": {
        "id": "758uLviywr68"
      },
      "source": [
        "# Practical Example: Stock Price Prediction"
      ]
    },
    {
      "cell_type": "markdown",
      "metadata": {
        "id": "VWjIVbRPwr68"
      },
      "source": [
        "Let's apply hyperparameter tuning to our stock price prediction model:"
      ]
    },
    {
      "cell_type": "code",
      "execution_count": 6,
      "metadata": {
        "id": "gTqPCf60wr69"
      },
      "outputs": [],
      "source": [
        "# Necessary imports\n",
        "import numpy as np\n",
        "import pandas as pd\n",
        "import tensorflow as tf\n",
        "from tensorflow import keras\n",
        "import keras_tuner as kt\n",
        "import matplotlib.pyplot as plt\n",
        "import seaborn as sns\n",
        "from sklearn.preprocessing import MinMaxScaler\n",
        "from datetime import datetime\n",
        "import yfinance as yf"
      ]
    },
    {
      "cell_type": "code",
      "execution_count": 7,
      "metadata": {
        "id": "qVUsnExYwr69"
      },
      "outputs": [],
      "source": [
        "class LSTMTuner:\n",
        "    def __init__(self, sequence_length=60):\n",
        "        \"\"\"\n",
        "        Initialize the LSTM tuner with configuration parameters.\n",
        "\n",
        "        Args:\n",
        "            sequence_length (int): Number of time steps to look back\n",
        "        \"\"\"\n",
        "        self.sequence_length = sequence_length\n",
        "        self.scaler = None\n",
        "\n",
        "    def prepare_stock_data(self, symbol='AAPL', start_date='2020-01-01', end_date='2023-12-31'):\n",
        "        \"\"\"\n",
        "        Fetch and prepare stock data for LSTM training.\n",
        "        Returns scaled data and stores the scaler object for inverse transformation.\n",
        "        \"\"\"\n",
        "        # Download stock data\n",
        "        print(f\"Downloading {symbol} stock data...\")\n",
        "        stock_data = yf.download(symbol, start=start_date, end=end_date)\n",
        "\n",
        "        # Extract closing prices and convert to numpy array\n",
        "        prices = stock_data['Close'].values.reshape(-1, 1)\n",
        "\n",
        "        # Scale the data\n",
        "        self.scaler = MinMaxScaler()\n",
        "        scaled_prices = self.scaler.fit_transform(prices)\n",
        "\n",
        "        return scaled_prices\n",
        "\n",
        "    def create_sequences(self, data):\n",
        "        \"\"\"\n",
        "        Create sequences for LSTM training.\n",
        "        Each sequence uses sequence_length days to predict the next day's price.\n",
        "        \"\"\"\n",
        "        X, y = [], []\n",
        "        for i in range(len(data) - self.sequence_length):\n",
        "            X.append(data[i:i + self.sequence_length])\n",
        "            y.append(data[i + self.sequence_length])\n",
        "        return np.array(X), np.array(y)\n",
        "\n",
        "    def create_lstm_model(self, hp):\n",
        "        \"\"\"\n",
        "        Create an LSTM model with tunable hyperparameters.\n",
        "        This function will be used by the hyperparameter tuners.\n",
        "        \"\"\"\n",
        "        model = keras.Sequential()\n",
        "\n",
        "        # First LSTM layer\n",
        "        model.add(keras.layers.LSTM(\n",
        "            units=hp.Int('lstm_units_1', 32, 256, step=32),\n",
        "            return_sequences=True,\n",
        "            dropout=hp.Float('dropout_1', 0.1, 0.5, step=0.1),\n",
        "            input_shape=(self.sequence_length, 1)\n",
        "        ))\n",
        "\n",
        "        # Second LSTM layer\n",
        "        model.add(keras.layers.LSTM(\n",
        "            units=hp.Int('lstm_units_2', 32, 256, step=32),\n",
        "            dropout=hp.Float('dropout_2', 0.1, 0.5, step=0.1)\n",
        "        ))\n",
        "\n",
        "        # Output layer\n",
        "        model.add(keras.layers.Dense(1))\n",
        "\n",
        "        # Compile model\n",
        "        model.compile(\n",
        "            optimizer=keras.optimizers.Adam(\n",
        "                hp.Float('learning_rate', 1e-4, 1e-2, sampling='log')\n",
        "            ),\n",
        "            loss='mean_squared_error'\n",
        "        )\n",
        "\n",
        "        return model\n",
        "\n",
        "    def run_hyperparameter_tuning(self):\n",
        "        \"\"\"\n",
        "        Run different hyperparameter tuning methods and compare results.\n",
        "        Returns a dictionary containing the results for each method.\n",
        "        \"\"\"\n",
        "        # Prepare data\n",
        "        scaled_prices = self.prepare_stock_data()\n",
        "        X, y = self.create_sequences(scaled_prices)\n",
        "\n",
        "        # Split data into train and validation sets\n",
        "        train_size = int(len(X) * 0.8)\n",
        "        X_train, X_val = X[:train_size], X[train_size:]\n",
        "        y_train, y_val = y[:train_size], y[train_size:]\n",
        "\n",
        "        print(f\"Training data shape: {X_train.shape}\")\n",
        "        print(f\"Validation data shape: {X_val.shape}\")\n",
        "\n",
        "        # Create directory for saving results\n",
        "        results_dir = f\"hyperparameter_tuning_{datetime.now().strftime('%Y%m%d_%H%M%S')}\"\n",
        "\n",
        "        # Initialize tuners\n",
        "        tuners = {\n",
        "            'grid': kt.GridSearch(\n",
        "                self.create_lstm_model,\n",
        "                objective='val_loss',\n",
        "                max_trials=10,\n",
        "                directory=results_dir,\n",
        "                project_name='grid_search'\n",
        "            ),\n",
        "            'random': kt.RandomSearch(\n",
        "                self.create_lstm_model,\n",
        "                objective='val_loss',\n",
        "                max_trials=10,\n",
        "                directory=results_dir,\n",
        "                project_name='random_search'\n",
        "            ),\n",
        "            'bayesian': kt.BayesianOptimization(\n",
        "                self.create_lstm_model,\n",
        "                objective='val_loss',\n",
        "                max_trials=10,\n",
        "                directory=results_dir,\n",
        "                project_name='bayesian_opt'\n",
        "            )\n",
        "        }\n",
        "\n",
        "        # Dictionary to store results\n",
        "        results = {}\n",
        "\n",
        "        # Run each tuner\n",
        "        for tuner_name, tuner in tuners.items():\n",
        "            print(f\"\\nStarting {tuner_name} search...\")\n",
        "\n",
        "            # Search for best hyperparameters\n",
        "            tuner.search(\n",
        "                X_train,\n",
        "                y_train,\n",
        "                epochs=50,\n",
        "                batch_size=32,\n",
        "                validation_data=(X_val, y_val),\n",
        "                callbacks=[\n",
        "                    keras.callbacks.EarlyStopping(\n",
        "                        monitor='val_loss',\n",
        "                        patience=5,\n",
        "                        restore_best_weights=True\n",
        "                    )\n",
        "                ]\n",
        "            )\n",
        "\n",
        "            # Get best hyperparameters and model\n",
        "            best_hps = tuner.get_best_hyperparameters(1)[0]\n",
        "            best_model = tuner.hypermodel.build(best_hps)\n",
        "\n",
        "            # Train the model with best hyperparameters\n",
        "            history = best_model.fit(\n",
        "                X_train,\n",
        "                y_train,\n",
        "                epochs=50,\n",
        "                batch_size=32,\n",
        "                validation_data=(X_val, y_val),\n",
        "                callbacks=[\n",
        "                    keras.callbacks.EarlyStopping(\n",
        "                        monitor='val_loss',\n",
        "                        patience=5,\n",
        "                        restore_best_weights=True\n",
        "                    )\n",
        "                ],\n",
        "                verbose=1\n",
        "            )\n",
        "\n",
        "            # Store results\n",
        "            results[tuner_name] = {\n",
        "                'best_hps': best_hps,\n",
        "                'history': history.history,\n",
        "                'best_model': best_model\n",
        "            }\n",
        "\n",
        "            # Print best hyperparameters\n",
        "            print(f\"\\nBest hyperparameters for {tuner_name}:\")\n",
        "            for param, value in best_hps.values.items():\n",
        "                print(f\"{param}: {value}\")\n",
        "\n",
        "        return results\n",
        "\n",
        "    def visualize_results(self, results):\n",
        "        \"\"\"\n",
        "        Create visualizations comparing the performance of different tuning methods.\n",
        "        \"\"\"\n",
        "        plt.figure(figsize=(15, 10))\n",
        "\n",
        "        # Plot training histories\n",
        "        plt.subplot(2, 1, 1)\n",
        "        for method, result in results.items():\n",
        "            plt.plot(result['history']['val_loss'], label=f'{method} validation loss')\n",
        "        plt.title('Validation Loss Comparison')\n",
        "        plt.xlabel('Epoch')\n",
        "        plt.ylabel('Loss')\n",
        "        plt.legend()\n",
        "\n",
        "        # Plot final validation losses\n",
        "        plt.subplot(2, 1, 2)\n",
        "        final_losses = {method: min(result['history']['val_loss'])\n",
        "                       for method, result in results.items()}\n",
        "        plt.bar(final_losses.keys(), final_losses.values())\n",
        "        plt.title('Best Validation Loss by Method')\n",
        "        plt.ylabel('Loss')\n",
        "\n",
        "        plt.tight_layout()\n",
        "        plt.show()"
      ]
    },
    {
      "cell_type": "code",
      "execution_count": 8,
      "metadata": {
        "colab": {
          "base_uri": "https://localhost:8080/"
        },
        "id": "n8mqlVWRwr6_",
        "outputId": "30d49ebb-4103-40b3-fbe1-ef70aa4ce8cf"
      },
      "outputs": [
        {
          "output_type": "stream",
          "name": "stdout",
          "text": [
            "Trial 10 Complete [00h 00m 12s]\n",
            "val_loss: 0.02232269197702408\n",
            "\n",
            "Best val_loss So Far: 0.007721406407654285\n",
            "Total elapsed time: 00h 01m 49s\n",
            "Epoch 1/50\n",
            "\u001b[1m24/24\u001b[0m \u001b[32m━━━━━━━━━━━━━━━━━━━━\u001b[0m\u001b[37m\u001b[0m \u001b[1m4s\u001b[0m 46ms/step - loss: 0.0968 - val_loss: 0.0809\n",
            "Epoch 2/50\n",
            "\u001b[1m24/24\u001b[0m \u001b[32m━━━━━━━━━━━━━━━━━━━━\u001b[0m\u001b[37m\u001b[0m \u001b[1m1s\u001b[0m 14ms/step - loss: 0.0224 - val_loss: 0.0685\n",
            "Epoch 3/50\n",
            "\u001b[1m24/24\u001b[0m \u001b[32m━━━━━━━━━━━━━━━━━━━━\u001b[0m\u001b[37m\u001b[0m \u001b[1m1s\u001b[0m 11ms/step - loss: 0.0243 - val_loss: 0.0467\n",
            "Epoch 4/50\n",
            "\u001b[1m24/24\u001b[0m \u001b[32m━━━━━━━━━━━━━━━━━━━━\u001b[0m\u001b[37m\u001b[0m \u001b[1m0s\u001b[0m 11ms/step - loss: 0.0194 - val_loss: 0.0582\n",
            "Epoch 5/50\n",
            "\u001b[1m24/24\u001b[0m \u001b[32m━━━━━━━━━━━━━━━━━━━━\u001b[0m\u001b[37m\u001b[0m \u001b[1m0s\u001b[0m 12ms/step - loss: 0.0194 - val_loss: 0.0487\n",
            "Epoch 6/50\n",
            "\u001b[1m24/24\u001b[0m \u001b[32m━━━━━━━━━━━━━━━━━━━━\u001b[0m\u001b[37m\u001b[0m \u001b[1m0s\u001b[0m 12ms/step - loss: 0.0207 - val_loss: 0.0567\n",
            "Epoch 7/50\n",
            "\u001b[1m24/24\u001b[0m \u001b[32m━━━━━━━━━━━━━━━━━━━━\u001b[0m\u001b[37m\u001b[0m \u001b[1m0s\u001b[0m 12ms/step - loss: 0.0193 - val_loss: 0.0518\n",
            "Epoch 8/50\n",
            "\u001b[1m24/24\u001b[0m \u001b[32m━━━━━━━━━━━━━━━━━━━━\u001b[0m\u001b[37m\u001b[0m \u001b[1m0s\u001b[0m 11ms/step - loss: 0.0163 - val_loss: 0.0467\n",
            "Epoch 9/50\n",
            "\u001b[1m24/24\u001b[0m \u001b[32m━━━━━━━━━━━━━━━━━━━━\u001b[0m\u001b[37m\u001b[0m \u001b[1m0s\u001b[0m 12ms/step - loss: 0.0166 - val_loss: 0.0380\n",
            "Epoch 10/50\n",
            "\u001b[1m24/24\u001b[0m \u001b[32m━━━━━━━━━━━━━━━━━━━━\u001b[0m\u001b[37m\u001b[0m \u001b[1m0s\u001b[0m 12ms/step - loss: 0.0244 - val_loss: 0.0727\n",
            "Epoch 11/50\n",
            "\u001b[1m24/24\u001b[0m \u001b[32m━━━━━━━━━━━━━━━━━━━━\u001b[0m\u001b[37m\u001b[0m \u001b[1m0s\u001b[0m 11ms/step - loss: 0.0185 - val_loss: 0.0358\n",
            "Epoch 12/50\n",
            "\u001b[1m24/24\u001b[0m \u001b[32m━━━━━━━━━━━━━━━━━━━━\u001b[0m\u001b[37m\u001b[0m \u001b[1m0s\u001b[0m 13ms/step - loss: 0.0166 - val_loss: 0.0284\n",
            "Epoch 13/50\n",
            "\u001b[1m24/24\u001b[0m \u001b[32m━━━━━━━━━━━━━━━━━━━━\u001b[0m\u001b[37m\u001b[0m \u001b[1m1s\u001b[0m 11ms/step - loss: 0.0131 - val_loss: 0.0383\n",
            "Epoch 14/50\n",
            "\u001b[1m24/24\u001b[0m \u001b[32m━━━━━━━━━━━━━━━━━━━━\u001b[0m\u001b[37m\u001b[0m \u001b[1m0s\u001b[0m 11ms/step - loss: 0.0109 - val_loss: 0.0241\n",
            "Epoch 15/50\n",
            "\u001b[1m24/24\u001b[0m \u001b[32m━━━━━━━━━━━━━━━━━━━━\u001b[0m\u001b[37m\u001b[0m \u001b[1m0s\u001b[0m 13ms/step - loss: 0.0080 - val_loss: 0.0221\n",
            "Epoch 16/50\n",
            "\u001b[1m24/24\u001b[0m \u001b[32m━━━━━━━━━━━━━━━━━━━━\u001b[0m\u001b[37m\u001b[0m \u001b[1m0s\u001b[0m 12ms/step - loss: 0.0067 - val_loss: 0.0131\n",
            "Epoch 17/50\n",
            "\u001b[1m24/24\u001b[0m \u001b[32m━━━━━━━━━━━━━━━━━━━━\u001b[0m\u001b[37m\u001b[0m \u001b[1m0s\u001b[0m 11ms/step - loss: 0.0060 - val_loss: 0.0231\n",
            "Epoch 18/50\n",
            "\u001b[1m24/24\u001b[0m \u001b[32m━━━━━━━━━━━━━━━━━━━━\u001b[0m\u001b[37m\u001b[0m \u001b[1m0s\u001b[0m 13ms/step - loss: 0.0065 - val_loss: 0.0165\n",
            "Epoch 19/50\n",
            "\u001b[1m24/24\u001b[0m \u001b[32m━━━━━━━━━━━━━━━━━━━━\u001b[0m\u001b[37m\u001b[0m \u001b[1m1s\u001b[0m 12ms/step - loss: 0.0062 - val_loss: 0.0209\n",
            "Epoch 20/50\n",
            "\u001b[1m24/24\u001b[0m \u001b[32m━━━━━━━━━━━━━━━━━━━━\u001b[0m\u001b[37m\u001b[0m \u001b[1m0s\u001b[0m 13ms/step - loss: 0.0062 - val_loss: 0.0185\n",
            "Epoch 21/50\n",
            "\u001b[1m24/24\u001b[0m \u001b[32m━━━━━━━━━━━━━━━━━━━━\u001b[0m\u001b[37m\u001b[0m \u001b[1m1s\u001b[0m 12ms/step - loss: 0.0071 - val_loss: 0.0185\n",
            "\n",
            "Best hyperparameters for bayesian:\n",
            "lstm_units_1: 128\n",
            "dropout_1: 0.1\n",
            "lstm_units_2: 192\n",
            "dropout_2: 0.30000000000000004\n",
            "learning_rate: 0.0009917217587904097\n"
          ]
        }
      ],
      "source": [
        "\n",
        "# Set random seeds for reproducibility\n",
        "np.random.seed(42)\n",
        "tf.random.set_seed(42)\n",
        "\n",
        "# Create tuner instance\n",
        "tuner = LSTMTuner(sequence_length=60)\n",
        "\n",
        "# Run hyperparameter tuning\n",
        "print(\"Starting hyperparameter tuning...\")\n",
        "results = tuner.run_hyperparameter_tuning()"
      ]
    },
    {
      "cell_type": "code",
      "execution_count": 9,
      "metadata": {
        "colab": {
          "base_uri": "https://localhost:8080/",
          "height": 622
        },
        "id": "HW78CMLgwr7A",
        "outputId": "22010643-482a-4d67-bd1f-95d0abada2a5"
      },
      "outputs": [
        {
          "output_type": "stream",
          "name": "stdout",
          "text": [
            "\n",
            "Generating visualizations...\n"
          ]
        },
        {
          "output_type": "display_data",
          "data": {
            "text/plain": [
              "<Figure size 1500x1000 with 2 Axes>"
            ],
            "image/png": "[encoded data removed]"
          },
          "metadata": {}
        }
      ],
      "source": [
        "# Visualize results\n",
        "print(\"\\nGenerating visualizations...\")\n",
        "tuner.visualize_results(results)"
      ]
    },
    {
      "cell_type": "code",
      "execution_count": 10,
      "metadata": {
        "colab": {
          "base_uri": "https://localhost:8080/"
        },
        "id": "gcqP2AE4wr7B",
        "outputId": "bb6c1df3-47e2-4a88-adf8-0062e7ef6df1"
      },
      "outputs": [
        {
          "output_type": "stream",
          "name": "stdout",
          "text": [
            "\n",
            "Final Results Summary:\n",
            "grid - Best validation loss: 0.014055\n",
            "random - Best validation loss: 0.052112\n",
            "bayesian - Best validation loss: 0.013150\n"
          ]
        }
      ],
      "source": [
        "# Print final summary\n",
        "print(\"\\nFinal Results Summary:\")\n",
        "for method, result in results.items():\n",
        "    best_val_loss = min(result['history']['val_loss'])\n",
        "    print(f\"{method} - Best validation loss: {best_val_loss:.6f}\")"
      ]
    },
    {
      "cell_type": "markdown",
      "metadata": {
        "id": "sltA1YK5wr7B"
      },
      "source": [
        "# Best Practices for Hyperparameter Tuning"
      ]
    },
    {
      "cell_type": "markdown",
      "metadata": {
        "id": "Npjhn44Dwr7C"
      },
      "source": [
        "## 1. Start with a Baseline Model"
      ]
    },
    {
      "cell_type": "markdown",
      "metadata": {
        "id": "Mll9fZYEwr7D"
      },
      "source": [
        "- Begin with default hyperparameters\n",
        "- Establish baseline performance\n",
        "- Identify areas for improvement"
      ]
    },
    {
      "cell_type": "markdown",
      "metadata": {
        "id": "fJSN6s-Swr7E"
      },
      "source": [
        "## 2. Systematic Approach"
      ]
    },
    {
      "cell_type": "markdown",
      "metadata": {
        "id": "jW1Jp3NWwr7E"
      },
      "source": [
        "- Change one hyperparameter at a time\n",
        "- Document impact of each change\n",
        "- Keep track of all experiments"
      ]
    },
    {
      "cell_type": "markdown",
      "metadata": {
        "id": "bHH5253Vwr7F"
      },
      "source": [
        "## 3. Use Cross-Validation"
      ]
    },
    {
      "cell_type": "markdown",
      "metadata": {
        "id": "f2mDxhJWwr7G"
      },
      "source": [
        "- Ensures robust performance estimates\n",
        "- Helps prevent overfitting to validation set\n",
        "- Particularly important for time series data"
      ]
    },
    {
      "cell_type": "markdown",
      "metadata": {
        "id": "K2B1IWl8wr7G"
      },
      "source": [
        "## 4. Monitor Multiple Metrics"
      ]
    },
    {
      "cell_type": "markdown",
      "metadata": {
        "id": "l43D0ZBdwr7H"
      },
      "source": [
        "- Training loss\n",
        "- Validation loss\n",
        "- Domain-specific metrics\n",
        "- Training time and resource usage"
      ]
    },
    {
      "cell_type": "markdown",
      "metadata": {
        "id": "jT-SuBIgwr7I"
      },
      "source": [
        "# Common Pitfalls and Solutions"
      ]
    },
    {
      "cell_type": "markdown",
      "metadata": {
        "id": "lvgeLstcwr7I"
      },
      "source": [
        "## Overfitting"
      ]
    },
    {
      "cell_type": "markdown",
      "metadata": {
        "id": "6-tiEh3nwr7J"
      },
      "source": [
        "- **Symptom**: Low training loss, high validation loss\n",
        "- **Solutions**:\n",
        "  - Increase dropout rate\n",
        "  - Reduce model capacity\n",
        "  - Add regularization\n",
        "  - Collect more training data"
      ]
    },
    {
      "cell_type": "markdown",
      "metadata": {
        "id": "IiXKw2r4wr7K"
      },
      "source": [
        "## Underfitting"
      ]
    },
    {
      "cell_type": "markdown",
      "metadata": {
        "id": "64frYhOawr7K"
      },
      "source": [
        "- **Symptom**: High training and validation loss\n",
        "- **Solutions**:\n",
        "  - Increase model capacity\n",
        "  - Decrease dropout rate\n",
        "  - Train for more epochs\n",
        "  - Adjust learning rate"
      ]
    },
    {
      "cell_type": "markdown",
      "metadata": {
        "id": "yWqVY9zowr7L"
      },
      "source": [
        "## Unstable Training"
      ]
    },
    {
      "cell_type": "markdown",
      "metadata": {
        "id": "Bir-y2olwr7L"
      },
      "source": [
        "- **Symptom**: Fluctuating loss values\n",
        "- **Solutions**:\n",
        "  - Reduce learning rate\n",
        "  - Increase batch size\n",
        "  - Add gradient clipping\n",
        "  - Normalize inputs"
      ]
    },
    {
      "cell_type": "markdown",
      "metadata": {
        "id": "x-S6ikNkwr7M"
      },
      "source": [
        "# Conclusion"
      ]
    },
    {
      "cell_type": "markdown",
      "metadata": {
        "id": "Hur-cgikwr7N"
      },
      "source": [
        "Effective hyperparameter tuning is crucial for developing high-performing LSTM models. The process requires:\n",
        "- Understanding the role of each hyperparameter\n",
        "- Systematic experimentation\n",
        "- Careful monitoring of results\n",
        "- Patience and persistence\n",
        "\n",
        "Remember that there's often no single \"best\" set of hyperparameters - the optimal configuration depends on your specific problem, data, and requirements."
      ]
    }
  ],
  "metadata": {
    "kernelspec": {
      "display_name": "Python 3",
      "name": "python3"
    },
    "language_info": {
      "codemirror_mode": {
        "name": "ipython",
        "version": 3
      },
      "file_extension": ".py",
      "mimetype": "text/x-python",
      "name": "python",
      "nbconvert_exporter": "python",
      "pygments_lexer": "ipython3",
      "version": "3.12.6"
    },
    "colab": {
      "provenance": [],
      "gpuType": "T4"
    },
    "accelerator": "GPU"
  },
  "nbformat": 4,
  "nbformat_minor": 0
}