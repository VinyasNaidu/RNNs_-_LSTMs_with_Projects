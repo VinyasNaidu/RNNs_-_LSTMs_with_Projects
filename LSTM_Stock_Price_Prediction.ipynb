{
  "cells": [
    {
      "cell_type": "markdown",
      "metadata": {
        "id": "23M_FcMcycNF"
      },
      "source": [
        "<center>\n",
        "    <h1>Long Short Term Memory (LSTM)</h1>\n",
        "</center>"
      ]
    },
    {
      "cell_type": "markdown",
      "metadata": {
        "id": "ueuU1vBNycNG"
      },
      "source": [
        "# Brief Recap"
      ]
    },
    {
      "cell_type": "markdown",
      "metadata": {
        "id": "WKMkYRpDwpg0"
      },
      "source": [
        "Long Short-Term Memory (LSTM) networks are a specialized type of recurrent neural network (RNN) designed to capture long-term dependencies in sequential data. LSTMs were introduced by Hochreiter & Schmidhuber in 1997 to address the vanishing gradient problem faced by traditional RNNs. In other words, they have memory of the past inputs."
      ]
    },
    {
      "cell_type": "markdown",
      "metadata": {
        "id": "ZXG0UIaBwpg2"
      },
      "source": [
        "## LSTM Architecture Description"
      ]
    },
    {
      "cell_type": "markdown",
      "metadata": {
        "id": "LSgau3NdD4CU"
      },
      "source": [
        "LSTM is a type of Recurrent Neural Network (RNN) architecture. RNNs are designed to handle sequential data by processing each input based on the previous inputs. In other words, they have memory of the past inputs.\n",
        "\n",
        "LSTM takes this concept further by introducing a cell state that can keep information over long periods of time. This cell state is controlled by three gates: the input gate, the forget gate, and the output gate. These gates determine what information to keep or discard from the cell state.\n",
        "\n",
        "- **Input Gate**: Decides which values from the input should be used to update the cell state.\n",
        "- **Forget Gate**: Determines what information should be discarded from the cell state.\n",
        "- **Output Gate**: Controls what information from the cell state should be used as output.\n",
        "- **Cell State**: The memory of the network that runs through the entire chain, with only minor linear interactions.\n",
        "\n",
        "<center>\n",
        "    <img src=\"static/image1.jpeg\" alt=\"LSTM Architecture\" style=\"width:50%;\">\n",
        "</center>"
      ]
    },
    {
      "cell_type": "markdown",
      "metadata": {
        "id": "YIKfyzKWD69s"
      },
      "source": [
        "## Advantages of LSTMs"
      ]
    },
    {
      "cell_type": "markdown",
      "metadata": {
        "id": "mugAzaMVwpg8"
      },
      "source": [
        "- **Long-term Dependencies**: LSTMs can effectively capture and learn from long-range dependencies in sequential data.\n",
        "- **Mitigates Vanishing Gradient**: The gating mechanism helps prevent the vanishing gradient problem common in traditional RNNs.\n",
        "- **Selective Memory**: LSTMs can selectively remember or forget information, making them more efficient at processing sequences.\n",
        "- **Versatility**: Effective for various sequential data tasks like natural language processing, speech recognition, and time series forecasting."
      ]
    },
    {
      "cell_type": "markdown",
      "metadata": {
        "id": "bL3OGNSpycNG"
      },
      "source": [
        "# Implementing LSTM with TensorFlow"
      ]
    },
    {
      "cell_type": "markdown",
      "metadata": {
        "id": "kKHTQ1JrwphB"
      },
      "source": [
        "TensorFlow provides an easy way to implement LSTM layers using the `tf.keras.layers.LSTM` class. Here's an overview of the key components:"
      ]
    },
    {
      "cell_type": "markdown",
      "metadata": {
        "id": "WKZGXS0OwphD"
      },
      "source": [
        "## Key Parameters"
      ]
    },
    {
      "cell_type": "markdown",
      "metadata": {
        "id": "L268ulXjwphE"
      },
      "source": [
        "- `units`: Number of LSTM units (neurons) in the layer.\n",
        "- `activation`: Activation function for the output. Default is `'tanh'`.\n",
        "- `recurrent_activation`: Activation function for the recurrent step. Default is `'sigmoid'`.\n",
        "- `return_sequences`: If `True`, returns the full sequence of outputs for each sample. If `False`, returns only the last output.\n",
        "- `return_state`: If `True`, returns the last state in addition to the output."
      ]
    },
    {
      "cell_type": "markdown",
      "metadata": {
        "id": "WNZt_mkNwphF"
      },
      "source": [
        "## Some other important arguments are:"
      ]
    },
    {
      "cell_type": "markdown",
      "metadata": {
        "id": "tR2JzJkuwphG"
      },
      "source": [
        "- `dropout`: Float between 0 and 1. Fraction of units to drop for the linear transformation of the inputs.\n",
        "- `recurrent_dropout`: Float between 0 and 1. Fraction of units to drop for the linear transformation of the recurrent state.\n",
        "\n",
        "For more detailed information, refer to the [TensorFlow documentation on LSTM](https://www.tensorflow.org/api_docs/python/tf/keras/layers/LSTM)."
      ]
    },
    {
      "cell_type": "code",
      "execution_count": 1,
      "metadata": {
        "colab": {
          "base_uri": "https://localhost:8080/"
        },
        "id": "Rv6hkRJQycNG",
        "outputId": "543d962d-8724-412c-fa1e-c85727b8f267"
      },
      "outputs": [
        {
          "output_type": "stream",
          "name": "stdout",
          "text": [
            "Basic LSTM output shape: (32, 4)\n",
            "Whole sequence output shape: (32, 10, 4)\n",
            "Final memory state shape: (32, 4)\n",
            "Final carry state shape: (32, 4)\n"
          ]
        }
      ],
      "source": [
        "import numpy as np\n",
        "import tensorflow as tf\n",
        "from tensorflow import keras\n",
        "\n",
        "# Create input data (batch_size, timesteps, features)\n",
        "inputs = np.random.random((32, 10, 8))\n",
        "\n",
        "# Example 1: Basic LSTM\n",
        "lstm = keras.layers.LSTM(4)\n",
        "output = lstm(inputs)\n",
        "print(\"Basic LSTM output shape:\", output.shape)\n",
        "\n",
        "# Example 2: LSTM with return_sequences and return_state\n",
        "lstm = keras.layers.LSTM(4, return_sequences=True, return_state=True)\n",
        "whole_seq_output, final_memory_state, final_carry_state = lstm(inputs)\n",
        "print(\"Whole sequence output shape:\", whole_seq_output.shape)\n",
        "print(\"Final memory state shape:\", final_memory_state.shape)\n",
        "print(\"Final carry state shape:\", final_carry_state.shape)"
      ]
    },
    {
      "cell_type": "markdown",
      "metadata": {
        "id": "r_eF6ku_ycNH"
      },
      "source": [
        "## Basic LSTM (Example 1)\n",
        "\n",
        "\n"
      ]
    },
    {
      "cell_type": "markdown",
      "metadata": {
        "id": "7BubDVMswphK"
      },
      "source": [
        "```python\n",
        "output = lstm(inputs)\n",
        "print(\"Basic LSTM output shape:\", output.shape)\n",
        "```\n",
        "\n",
        "**Output:** `(32, 4)`\n",
        "\n",
        "**Explanation:** By default, LSTM returns only the last output for each sample in the batch. Here, we get 32 samples (batch size), each with 4 features (number of LSTM units)."
      ]
    },
    {
      "cell_type": "markdown",
      "metadata": {
        "id": "827WfLn0DLdl"
      },
      "source": [
        "## LSTM with **return_sequences=True** and **return_state=True** (Example 2)"
      ]
    },
    {
      "cell_type": "markdown",
      "metadata": {
        "id": "wcnaOGziwphM"
      },
      "source": [
        "```python\n",
        "whole_seq_output, final_memory_state, final_carry_state = lstm(inputs)\n",
        "```"
      ]
    },
    {
      "cell_type": "markdown",
      "metadata": {
        "id": "HXbw2MVWwphN"
      },
      "source": [
        "### a. Whole Sequence Output"
      ]
    },
    {
      "cell_type": "markdown",
      "metadata": {
        "id": "jJ6lqpi2wphO"
      },
      "source": [
        "```python\n",
        "print(\"Whole sequence output shape:\", whole_seq_output.shape)\n",
        "```\n",
        "\n",
        "**Output:** `(32, 10, 4)`\n",
        "\n",
        "**Explanation:** With `return_sequences=True`, we get outputs for all timesteps. This results in 32 samples, each with 10 timesteps, and 4 features per timestep."
      ]
    },
    {
      "cell_type": "markdown",
      "metadata": {
        "id": "aTVcBdiuwphP"
      },
      "source": [
        "### b. Final Memory State"
      ]
    },
    {
      "cell_type": "markdown",
      "metadata": {
        "id": "NDrd7PLVwphQ"
      },
      "source": [
        "\n",
        "```python\n",
        "print(\"Final memory state shape:\", final_memory_state.shape)\n",
        "```\n",
        "\n",
        "**Output:** `(32, 4)`\n",
        "\n",
        "**Explanation:** This is the final memory state (hidden state) of the LSTM for each sample in the batch. It has 32 samples, each with 4 features (matching the number of LSTM units)."
      ]
    },
    {
      "cell_type": "markdown",
      "metadata": {
        "id": "De1PA8nEwphR"
      },
      "source": [
        "### c. Final Carry State"
      ]
    },
    {
      "cell_type": "markdown",
      "metadata": {
        "id": "1tFgns5gwphT"
      },
      "source": [
        "```python\n",
        "print(\"Final carry state shape:\", final_carry_state.shape)\n",
        "```\n",
        "\n",
        "**Output:** `(32, 4)`\n",
        "\n",
        "**Explanation:** This is the final carry state (cell state) of the LSTM for each sample. Like the memory state, it has 32 samples with 4 features each."
      ]
    },
    {
      "cell_type": "markdown",
      "metadata": {
        "id": "yfqwHMn9wphU"
      },
      "source": [
        "### Key Points"
      ]
    },
    {
      "cell_type": "markdown",
      "metadata": {
        "id": "Qdtm68XiwphU"
      },
      "source": [
        "- When `return_sequences=False` (default), you get only the last output of the sequence.\n",
        "- When `return_sequences=True`, you get outputs for all timesteps.\n",
        "- When `return_state=True`, you get the final memory (hidden) state and carry (cell) state in addition to the outputs.\n",
        "- The number of features in the output always matches the number of LSTM units specified."
      ]
    },
    {
      "cell_type": "markdown",
      "metadata": {
        "id": "NB_fyds4wphV"
      },
      "source": [
        "# Preparing Data for LSTM in TensorFlow"
      ]
    },
    {
      "cell_type": "markdown",
      "metadata": {
        "id": "FYKU8mkIwphW"
      },
      "source": [
        "Preparing data for Long Short-Term Memory (LSTM) networks in TensorFlow involves several key steps to ensure that your sequential data is in the right format for training and evaluation."
      ]
    },
    {
      "cell_type": "markdown",
      "metadata": {
        "id": "w_J2hvqr_LkG"
      },
      "source": [
        "## Sequence Padding and Truncation"
      ]
    },
    {
      "cell_type": "markdown",
      "metadata": {
        "id": "Mpf4H6ODwphX"
      },
      "source": [
        "When working with sequence data, it's common to have sequences of varying lengths. To feed this data into an LSTM, we need to ensure all sequences have the same length. This is achieved through padding (adding values to shorter sequences) and truncation (cutting off longer sequences).\n",
        "\n",
        "TensorFlow provides the `tf.keras.preprocessing.sequence.pad_sequences` function for this purpose:"
      ]
    },
    {
      "cell_type": "code",
      "execution_count": 2,
      "metadata": {
        "colab": {
          "base_uri": "https://localhost:8080/"
        },
        "id": "QZbX3bBd-t4n",
        "outputId": "dc8a97f7-ee9d-487d-8698-a3d58365cd44"
      },
      "outputs": [
        {
          "output_type": "stream",
          "name": "stdout",
          "text": [
            "[[1 2 3 0]\n",
            " [4 5 0 0]\n",
            " [6 7 8 9]]\n"
          ]
        }
      ],
      "source": [
        "import tensorflow as tf\n",
        "\n",
        "# Example sequences\n",
        "sequences = [[1, 2, 3], [4, 5], [6, 7, 8, 9]]\n",
        "\n",
        "# Pad sequences\n",
        "padded_sequences = tf.keras.preprocessing.sequence.pad_sequences(\n",
        "    sequences,\n",
        "    maxlen=4,  # Maximum sequence length\n",
        "    padding='post',  # Add padding at the end of sequences\n",
        "    truncating='post',  # Truncate from the end if sequence is too long\n",
        "    value=0  # Padding value\n",
        ")\n",
        "\n",
        "print(padded_sequences)"
      ]
    },
    {
      "cell_type": "markdown",
      "metadata": {
        "id": "_bl6FXEmycNH"
      },
      "source": [
        "\n",
        "### Key Parameters of pad_sequences:\n",
        "\n",
        "- `maxlen`: Maximum sequence length. Sequences longer than this will be truncated.\n",
        "- `padding`: 'pre' or 'post' (default). Add padding either before or after each sequence.\n",
        "- `truncating`: 'pre' or 'post' (default). Remove values from sequences longer than `maxlen`, either from the beginning or end of the sequence.\n",
        "- `value`: Float or String, padding value.\n",
        "\n",
        "For more detailed information, refer to the official TensorFlow documentation:\n",
        "- [tf.keras.preprocessing.sequence.pad_sequences](https://www.tensorflow.org/api_docs/python/tf/keras/preprocessing/sequence/pad_sequences)"
      ]
    },
    {
      "cell_type": "markdown",
      "metadata": {
        "id": "Khc0w0Lj_e4b"
      },
      "source": [
        "## Creating Input Sequences and Labels"
      ]
    },
    {
      "cell_type": "markdown",
      "metadata": {
        "id": "IxsGKetVwpha"
      },
      "source": [
        "For time series or sequential data, we often need to create input sequences and corresponding labels. Here's an example of how to do this:"
      ]
    },
    {
      "cell_type": "code",
      "execution_count": 3,
      "metadata": {
        "colab": {
          "base_uri": "https://localhost:8080/"
        },
        "id": "ce3Q1cMj_jpM",
        "outputId": "167f0aa0-18e3-455e-ae19-5e8524212c4f"
      },
      "outputs": [
        {
          "output_type": "stream",
          "name": "stdout",
          "text": [
            "Input shape: (90, 10)\n",
            "Label shape: (90,)\n"
          ]
        }
      ],
      "source": [
        "import numpy as np\n",
        "\n",
        "def create_sequences(data, seq_length):\n",
        "    sequences = []\n",
        "    labels = []\n",
        "    for i in range(len(data) - seq_length):\n",
        "        seq = data[i:i+seq_length]\n",
        "        label = data[i+seq_length]\n",
        "        sequences.append(seq)\n",
        "        labels.append(label)\n",
        "    return np.array(sequences), np.array(labels)\n",
        "\n",
        "# Example data\n",
        "data = np.arange(100)\n",
        "seq_length = 10\n",
        "\n",
        "X, y = create_sequences(data, seq_length)\n",
        "print(\"Input shape:\", X.shape)\n",
        "print(\"Label shape:\", y.shape)"
      ]
    },
    {
      "cell_type": "markdown",
      "metadata": {
        "id": "AfszkWJ1_sJ9"
      },
      "source": [
        "This function creates sequences of length `seq_length` and uses the next value as the label."
      ]
    },
    {
      "cell_type": "markdown",
      "metadata": {
        "id": "tpPlKFenAQef"
      },
      "source": [
        "## Splitting Data into Training and Validation Sets"
      ]
    },
    {
      "cell_type": "markdown",
      "metadata": {
        "id": "ZCVhErCfwphd"
      },
      "source": [
        "To evaluate our model's performance, we need to split our data into training and validation sets. We can use the `train_test_split` function from scikit-learn for this purpose:"
      ]
    },
    {
      "cell_type": "code",
      "execution_count": 4,
      "metadata": {
        "colab": {
          "base_uri": "https://localhost:8080/"
        },
        "id": "5oaEuChNATWJ",
        "outputId": "aa978a93-f342-43ad-b3ca-2020970112c8"
      },
      "outputs": [
        {
          "output_type": "stream",
          "name": "stdout",
          "text": [
            "Training set shape: (72, 10)\n",
            "Validation set shape: (18, 10)\n"
          ]
        }
      ],
      "source": [
        "from sklearn.model_selection import train_test_split\n",
        "\n",
        "# Assuming X and y are your input sequences and labels\n",
        "X_train, X_val, y_train, y_val = train_test_split(X, y, test_size=0.2, random_state=42)\n",
        "\n",
        "print(\"Training set shape:\", X_train.shape)\n",
        "print(\"Validation set shape:\", X_val.shape)"
      ]
    },
    {
      "cell_type": "markdown",
      "metadata": {
        "id": "9M9ANhJwAYH9"
      },
      "source": [
        "This code splits the data into 80% training and 20% validation sets."
      ]
    },
    {
      "cell_type": "markdown",
      "metadata": {
        "id": "uDKoZDvFF17A"
      },
      "source": [
        "## Handling Variable Length Sequences"
      ]
    },
    {
      "cell_type": "markdown",
      "metadata": {
        "id": "rjW_Y_Tuwphh"
      },
      "source": [
        "If your sequences have variable lengths and you want to avoid padding, you can use TensorFlow's `tf.data.Dataset` with `padded_batch`:"
      ]
    },
    {
      "cell_type": "code",
      "execution_count": 5,
      "metadata": {
        "colab": {
          "base_uri": "https://localhost:8080/"
        },
        "id": "Vd8O25nfGBnw",
        "outputId": "45ab25b1-11bb-47cc-eea2-d54116f38900"
      },
      "outputs": [
        {
          "output_type": "stream",
          "name": "stdout",
          "text": [
            "(<tf.Tensor: shape=(2, 10), dtype=int32, numpy=\n",
            "array([[23, 24,  1, 25, 26,  0,  0,  0,  0,  0],\n",
            "       [ 2,  6,  7,  8,  3,  0,  0,  0,  0,  0]], dtype=int32)>, <tf.Tensor: shape=(2, 3), dtype=float32, numpy=\n",
            "array([[0., 0., 1.],\n",
            "       [1., 0., 0.]], dtype=float32)>)\n"
          ]
        }
      ],
      "source": [
        "import numpy as np\n",
        "import pandas as pd\n",
        "import tensorflow as tf\n",
        "from tensorflow.keras.preprocessing.sequence import pad_sequences\n",
        "from sklearn.model_selection import train_test_split\n",
        "\n",
        "# 1. Generate Sample Data\n",
        "texts = [\n",
        "    \"I love programming in Python\",\n",
        "    \"Deep learning is fascinating\",\n",
        "    \"Machine learning can be fun\",\n",
        "    \"I enjoy solving complex problems\",\n",
        "    \"Data science combines multiple disciplines\",\n",
        "    \"Artificial intelligence is the future\",\n",
        "    \"Natural language processing is amazing\",\n",
        "    \"I like building models with TensorFlow\",\n",
        "    \"Understanding algorithms is essential\",\n",
        "    \"Python is great for data analysis\"\n",
        "]\n",
        "\n",
        "# Sample labels (for example, 0-2 for different categories)\n",
        "labels = [0, 1, 1, 0, 2, 2, 1, 0, 1, 2]\n",
        "\n",
        "# 2. Tokenization\n",
        "tokenizer = tf.keras.preprocessing.text.Tokenizer()\n",
        "tokenizer.fit_on_texts(texts)\n",
        "sequences_encoded = tokenizer.texts_to_sequences(texts)\n",
        "\n",
        "# 3. Padding Sequences\n",
        "max_length = 10\n",
        "X = pad_sequences(sequences_encoded, maxlen=max_length, padding='post', truncating='post')\n",
        "\n",
        "# 4. Preparing Labels\n",
        "num_classes = len(np.unique(labels))\n",
        "y = tf.keras.utils.to_categorical(labels, num_classes=num_classes)\n",
        "\n",
        "# Convert y to float32 to avoid type issues\n",
        "y = y.astype(np.float32)\n",
        "\n",
        "# 5. Splitting the Dataset\n",
        "X_train, X_val, y_train, y_val = train_test_split(X, y, test_size=0.2, random_state=42)\n",
        "\n",
        "# 6. Creating the Dataset\n",
        "train_dataset = tf.data.Dataset.from_tensor_slices((X_train, y_train))\n",
        "val_dataset = tf.data.Dataset.from_tensor_slices((X_val, y_val))\n",
        "\n",
        "# 7. Padded Batching\n",
        "train_padded_dataset = train_dataset.padded_batch(\n",
        "    batch_size=2,\n",
        "    padded_shapes=([None], [num_classes]),  # X: variable length, y: fixed length for one-hot\n",
        "    padding_values=(0, 0.0)  # Use 0 for X and 0.0 for y (float)\n",
        ")\n",
        "\n",
        "val_padded_dataset = val_dataset.padded_batch(\n",
        "    batch_size=2,\n",
        "    padded_shapes=([None], [num_classes]),\n",
        "    padding_values=(0, 0.0)\n",
        ")\n",
        "\n",
        "# Sample output to verify\n",
        "for batch in train_padded_dataset.take(1):\n",
        "    print(batch)\n"
      ]
    },
    {
      "cell_type": "markdown",
      "metadata": {
        "id": "74uKzaFOGXf-"
      },
      "source": [
        "This approach allows TensorFlow to handle padding dynamically during training, which can be more memory-efficient for variable-length sequences.\n",
        "\n",
        "For more detailed information, refer to the official TensorFlow documentation:\n",
        "[tf.data.Dataset](https://www.tensorflow.org/api_docs/python/tf/data/Dataset)\n"
      ]
    },
    {
      "cell_type": "markdown",
      "metadata": {
        "id": "VB1Ps-2uGqzM"
      },
      "source": [
        "## Understanding Masking"
      ]
    },
    {
      "cell_type": "markdown",
      "metadata": {
        "id": "eHpwR725wphk"
      },
      "source": [
        "When using padding, it's important to understand masking. Masking allows the model to ignore padded values during computation. TensorFlow's LSTM layers automatically support masking when the input layer uses the `mask_zero=True` parameter:"
      ]
    },
    {
      "cell_type": "code",
      "execution_count": 6,
      "metadata": {
        "colab": {
          "base_uri": "https://localhost:8080/",
          "height": 225
        },
        "id": "L7pa0rpwIK7b",
        "outputId": "a0d7acf6-9c7f-4b59-a6e4-9510adc1080c"
      },
      "outputs": [
        {
          "output_type": "display_data",
          "data": {
            "text/plain": [
              "\u001b[1mModel: \"sequential\"\u001b[0m\n"
            ],
            "text/html": [
              "<pre style=\"white-space:pre;overflow-x:auto;line-height:normal;font-family:Menlo,'DejaVu Sans Mono',consolas,'Courier New',monospace\"><span style=\"font-weight: bold\">Model: \"sequential\"</span>\n",
              "</pre>\n"
            ]
          },
          "metadata": {}
        },
        {
          "output_type": "display_data",
          "data": {
            "text/plain": [
              "┏━━━━━━━━━━━━━━━━━━━━━━━━━━━━━━━━━━━━━━┳━━━━━━━━━━━━━━━━━━━━━━━━━━━━━┳━━━━━━━━━━━━━━━━━┓\n",
              "┃\u001b[1m \u001b[0m\u001b[1mLayer (type)                        \u001b[0m\u001b[1m \u001b[0m┃\u001b[1m \u001b[0m\u001b[1mOutput Shape               \u001b[0m\u001b[1m \u001b[0m┃\u001b[1m \u001b[0m\u001b[1m        Param #\u001b[0m\u001b[1m \u001b[0m┃\n",
              "┡━━━━━━━━━━━━━━━━━━━━━━━━━━━━━━━━━━━━━━╇━━━━━━━━━━━━━━━━━━━━━━━━━━━━━╇━━━━━━━━━━━━━━━━━┩\n",
              "│ embedding (\u001b[38;5;33mEmbedding\u001b[0m)                │ ?                           │     \u001b[38;5;34m0\u001b[0m (unbuilt) │\n",
              "├──────────────────────────────────────┼─────────────────────────────┼─────────────────┤\n",
              "│ lstm_2 (\u001b[38;5;33mLSTM\u001b[0m)                        │ ?                           │     \u001b[38;5;34m0\u001b[0m (unbuilt) │\n",
              "├──────────────────────────────────────┼─────────────────────────────┼─────────────────┤\n",
              "│ dense (\u001b[38;5;33mDense\u001b[0m)                        │ ?                           │     \u001b[38;5;34m0\u001b[0m (unbuilt) │\n",
              "└──────────────────────────────────────┴─────────────────────────────┴─────────────────┘\n"
            ],
            "text/html": [
              "<pre style=\"white-space:pre;overflow-x:auto;line-height:normal;font-family:Menlo,'DejaVu Sans Mono',consolas,'Courier New',monospace\">┏━━━━━━━━━━━━━━━━━━━━━━━━━━━━━━━━━━━━━━┳━━━━━━━━━━━━━━━━━━━━━━━━━━━━━┳━━━━━━━━━━━━━━━━━┓\n",
              "┃<span style=\"font-weight: bold\"> Layer (type)                         </span>┃<span style=\"font-weight: bold\"> Output Shape                </span>┃<span style=\"font-weight: bold\">         Param # </span>┃\n",
              "┡━━━━━━━━━━━━━━━━━━━━━━━━━━━━━━━━━━━━━━╇━━━━━━━━━━━━━━━━━━━━━━━━━━━━━╇━━━━━━━━━━━━━━━━━┩\n",
              "│ embedding (<span style=\"color: #0087ff; text-decoration-color: #0087ff\">Embedding</span>)                │ ?                           │     <span style=\"color: #00af00; text-decoration-color: #00af00\">0</span> (unbuilt) │\n",
              "├──────────────────────────────────────┼─────────────────────────────┼─────────────────┤\n",
              "│ lstm_2 (<span style=\"color: #0087ff; text-decoration-color: #0087ff\">LSTM</span>)                        │ ?                           │     <span style=\"color: #00af00; text-decoration-color: #00af00\">0</span> (unbuilt) │\n",
              "├──────────────────────────────────────┼─────────────────────────────┼─────────────────┤\n",
              "│ dense (<span style=\"color: #0087ff; text-decoration-color: #0087ff\">Dense</span>)                        │ ?                           │     <span style=\"color: #00af00; text-decoration-color: #00af00\">0</span> (unbuilt) │\n",
              "└──────────────────────────────────────┴─────────────────────────────┴─────────────────┘\n",
              "</pre>\n"
            ]
          },
          "metadata": {}
        },
        {
          "output_type": "display_data",
          "data": {
            "text/plain": [
              "\u001b[1m Total params: \u001b[0m\u001b[38;5;34m0\u001b[0m (0.00 B)\n"
            ],
            "text/html": [
              "<pre style=\"white-space:pre;overflow-x:auto;line-height:normal;font-family:Menlo,'DejaVu Sans Mono',consolas,'Courier New',monospace\"><span style=\"font-weight: bold\"> Total params: </span><span style=\"color: #00af00; text-decoration-color: #00af00\">0</span> (0.00 B)\n",
              "</pre>\n"
            ]
          },
          "metadata": {}
        },
        {
          "output_type": "display_data",
          "data": {
            "text/plain": [
              "\u001b[1m Trainable params: \u001b[0m\u001b[38;5;34m0\u001b[0m (0.00 B)\n"
            ],
            "text/html": [
              "<pre style=\"white-space:pre;overflow-x:auto;line-height:normal;font-family:Menlo,'DejaVu Sans Mono',consolas,'Courier New',monospace\"><span style=\"font-weight: bold\"> Trainable params: </span><span style=\"color: #00af00; text-decoration-color: #00af00\">0</span> (0.00 B)\n",
              "</pre>\n"
            ]
          },
          "metadata": {}
        },
        {
          "output_type": "display_data",
          "data": {
            "text/plain": [
              "\u001b[1m Non-trainable params: \u001b[0m\u001b[38;5;34m0\u001b[0m (0.00 B)\n"
            ],
            "text/html": [
              "<pre style=\"white-space:pre;overflow-x:auto;line-height:normal;font-family:Menlo,'DejaVu Sans Mono',consolas,'Courier New',monospace\"><span style=\"font-weight: bold\"> Non-trainable params: </span><span style=\"color: #00af00; text-decoration-color: #00af00\">0</span> (0.00 B)\n",
              "</pre>\n"
            ]
          },
          "metadata": {}
        }
      ],
      "source": [
        "# 8. Define Vocabulary Size\n",
        "vocab_size = len(tokenizer.word_index) + 1  # Add 1 for padding\n",
        "\n",
        "# 9. Build the LSTM Model\n",
        "model = tf.keras.Sequential([\n",
        "    tf.keras.layers.Embedding(input_dim=vocab_size, output_dim=64, mask_zero=True),\n",
        "    tf.keras.layers.LSTM(64),\n",
        "    tf.keras.layers.Dense(num_classes, activation='softmax')  # Softmax for multi-class classification\n",
        "])\n",
        "\n",
        "model.summary()\n"
      ]
    },
    {
      "cell_type": "markdown",
      "metadata": {
        "id": "F1nwJM87HoC9"
      },
      "source": [
        "This ensures that the LSTM layer ignores padded values during its computations.\n",
        "In the output, the model summary shows that the model is unbuilt as of nof, hence the 'Param' and 'Output Shape' are not available in the summary. Let's go ahead and compile the model to visualize the output."
      ]
    },
    {
      "cell_type": "markdown",
      "metadata": {
        "id": "sr-6XGZBIYAe"
      },
      "source": [
        "# Training the LSTM Model"
      ]
    },
    {
      "cell_type": "markdown",
      "metadata": {
        "id": "U1oKUWGKJBuC"
      },
      "source": [
        "## Setting up Training Parameters"
      ]
    },
    {
      "cell_type": "markdown",
      "metadata": {
        "id": "rT_Cowh0wpho"
      },
      "source": [
        "Before training your LSTM model, you need to set up various training parameters. These parameters will affect the learning process and the model's performance."
      ]
    },
    {
      "cell_type": "code",
      "execution_count": 7,
      "metadata": {
        "id": "iH9HchqBKgIm"
      },
      "outputs": [],
      "source": [
        "# Define Hyperparameters\n",
        "batch_size = 2\n",
        "learning_rate = 0.001\n",
        "epochs = 10"
      ]
    },
    {
      "cell_type": "markdown",
      "metadata": {
        "id": "Ve7EkWS1JBkx"
      },
      "source": [
        "### Key Parameters:\n",
        "\n",
        "- **`batch_size`**: Number of samples processed before the model is updated. A smaller batch size often leads to noisier gradient estimates, while a larger batch size provides a more stable estimate but may require more memory.\n",
        "\n",
        "- **`epochs`**: Number of complete passes through the training dataset. More epochs allow the model to learn better, but too many can lead to overfitting, where the model performs well on training data but poorly on unseen data.\n",
        "\n",
        "- **`learning_rate`**: Step size at each iteration while moving toward a minimum of the loss function. A small learning rate ensures steady convergence but may take longer to train, while a large learning rate can speed up training but risks overshooting the minimum.\n",
        "\n",
        "- **`optimizer`**: Algorithm used to update model parameters based on the computed gradients. Common optimizers include Adam, SGD, and RMSprop, each with its own characteristics and suitable use cases.\n",
        "\n",
        "- **`loss function`**: A measure of how well the model's predictions match the actual labels. For classification tasks, common choices include categorical cross-entropy and binary cross-entropy.\n",
        "\n",
        "- **`metrics`**: Quantitative measures used to evaluate the performance of the model during training and validation. Common metrics for classification include accuracy, precision, recall, and F1-score.\n",
        "\n",
        "- **`num_classes`**: The total number of distinct categories in the target variable. This is crucial for setting up the output layer and choosing the appropriate loss function.\n",
        "\n",
        "- **`max_length`**: The maximum length of input sequences after padding. This ensures uniform input sizes for the model and can impact the model's ability to learn patterns effectively.\n"
      ]
    },
    {
      "cell_type": "code",
      "execution_count": 8,
      "metadata": {
        "id": "9o1XCVZrMhJn"
      },
      "outputs": [],
      "source": [
        "# Compile the Model\n",
        "model.compile(\n",
        "    loss='categorical_crossentropy',  # Loss function for multi-class classification\n",
        "    optimizer=tf.keras.optimizers.Adam(learning_rate=learning_rate),  # Adam optimizer\n",
        "    metrics=['accuracy']  # Metric to monitor\n",
        ")"
      ]
    },
    {
      "cell_type": "markdown",
      "metadata": {
        "id": "ivYBGjJyMaMv"
      },
      "source": [
        "## Fitting the Model"
      ]
    },
    {
      "cell_type": "markdown",
      "metadata": {
        "id": "77ynC3tTwphr"
      },
      "source": [
        "**Important Arguments:**\n",
        "- `X_train`, `y_train`: Training data and labels.\n",
        "- `batch_size`: Number of samples per gradient update.\n",
        "- `epochs`: Number of epochs to train the model.\n",
        "- `validation_data`: Data on which to evaluate the loss and any model metrics at the end of each epoch.\n",
        "- `callbacks`: List of callbacks to apply during training."
      ]
    },
    {
      "cell_type": "code",
      "execution_count": 9,
      "metadata": {
        "colab": {
          "base_uri": "https://localhost:8080/"
        },
        "id": "KtSO8EVhLW9l",
        "outputId": "ae3f8562-aeac-4399-ee64-816f8bf4daae"
      },
      "outputs": [
        {
          "output_type": "stream",
          "name": "stdout",
          "text": [
            "Epoch 1/10\n",
            "\u001b[1m4/4\u001b[0m \u001b[32m━━━━━━━━━━━━━━━━━━━━\u001b[0m\u001b[37m\u001b[0m \u001b[1m4s\u001b[0m 108ms/step - accuracy: 0.5000 - loss: 1.0996 - val_accuracy: 0.0000e+00 - val_loss: 1.1181\n",
            "Epoch 2/10\n",
            "\u001b[1m4/4\u001b[0m \u001b[32m━━━━━━━━━━━━━━━━━━━━\u001b[0m\u001b[37m\u001b[0m \u001b[1m0s\u001b[0m 8ms/step - accuracy: 0.8167 - loss: 1.0790 - val_accuracy: 0.0000e+00 - val_loss: 1.1243\n",
            "Epoch 3/10\n",
            "\u001b[1m4/4\u001b[0m \u001b[32m━━━━━━━━━━━━━━━━━━━━\u001b[0m\u001b[37m\u001b[0m \u001b[1m0s\u001b[0m 13ms/step - accuracy: 0.8167 - loss: 1.0618 - val_accuracy: 0.0000e+00 - val_loss: 1.1297\n",
            "Epoch 4/10\n",
            "\u001b[1m4/4\u001b[0m \u001b[32m━━━━━━━━━━━━━━━━━━━━\u001b[0m\u001b[37m\u001b[0m \u001b[1m0s\u001b[0m 10ms/step - accuracy: 0.8167 - loss: 1.0423 - val_accuracy: 0.0000e+00 - val_loss: 1.1350\n",
            "Epoch 5/10\n",
            "\u001b[1m4/4\u001b[0m \u001b[32m━━━━━━━━━━━━━━━━━━━━\u001b[0m\u001b[37m\u001b[0m \u001b[1m0s\u001b[0m 8ms/step - accuracy: 0.8167 - loss: 1.0180 - val_accuracy: 0.0000e+00 - val_loss: 1.1402\n",
            "Epoch 6/10\n",
            "\u001b[1m4/4\u001b[0m \u001b[32m━━━━━━━━━━━━━━━━━━━━\u001b[0m\u001b[37m\u001b[0m \u001b[1m0s\u001b[0m 8ms/step - accuracy: 0.8667 - loss: 0.9861 - val_accuracy: 0.0000e+00 - val_loss: 1.1455\n",
            "Epoch 7/10\n",
            "\u001b[1m4/4\u001b[0m \u001b[32m━━━━━━━━━━━━━━━━━━━━\u001b[0m\u001b[37m\u001b[0m \u001b[1m0s\u001b[0m 9ms/step - accuracy: 1.0000 - loss: 0.9431 - val_accuracy: 0.0000e+00 - val_loss: 1.1509\n",
            "Epoch 8/10\n",
            "\u001b[1m4/4\u001b[0m \u001b[32m━━━━━━━━━━━━━━━━━━━━\u001b[0m\u001b[37m\u001b[0m \u001b[1m0s\u001b[0m 8ms/step - accuracy: 1.0000 - loss: 0.8846 - val_accuracy: 0.0000e+00 - val_loss: 1.1564\n",
            "Epoch 9/10\n",
            "\u001b[1m4/4\u001b[0m \u001b[32m━━━━━━━━━━━━━━━━━━━━\u001b[0m\u001b[37m\u001b[0m \u001b[1m0s\u001b[0m 8ms/step - accuracy: 1.0000 - loss: 0.8048 - val_accuracy: 0.0000e+00 - val_loss: 1.1621\n",
            "Epoch 10/10\n",
            "\u001b[1m4/4\u001b[0m \u001b[32m━━━━━━━━━━━━━━━━━━━━\u001b[0m\u001b[37m\u001b[0m \u001b[1m0s\u001b[0m 8ms/step - accuracy: 1.0000 - loss: 0.6987 - val_accuracy: 0.0000e+00 - val_loss: 1.1682\n"
          ]
        }
      ],
      "source": [
        "history = model.fit(train_padded_dataset, validation_data=val_padded_dataset, epochs=epochs)"
      ]
    },
    {
      "cell_type": "code",
      "execution_count": 10,
      "metadata": {
        "colab": {
          "base_uri": "https://localhost:8080/",
          "height": 241
        },
        "id": "11xQDLe4LaRM",
        "outputId": "70637260-f4f4-480a-c03a-15a0644ee586"
      },
      "outputs": [
        {
          "output_type": "display_data",
          "data": {
            "text/plain": [
              "\u001b[1mModel: \"sequential\"\u001b[0m\n"
            ],
            "text/html": [
              "<pre style=\"white-space:pre;overflow-x:auto;line-height:normal;font-family:Menlo,'DejaVu Sans Mono',consolas,'Courier New',monospace\"><span style=\"font-weight: bold\">Model: \"sequential\"</span>\n",
              "</pre>\n"
            ]
          },
          "metadata": {}
        },
        {
          "output_type": "display_data",
          "data": {
            "text/plain": [
              "┏━━━━━━━━━━━━━━━━━━━━━━━━━━━━━━━━━━━━━━┳━━━━━━━━━━━━━━━━━━━━━━━━━━━━━┳━━━━━━━━━━━━━━━━━┓\n",
              "┃\u001b[1m \u001b[0m\u001b[1mLayer (type)                        \u001b[0m\u001b[1m \u001b[0m┃\u001b[1m \u001b[0m\u001b[1mOutput Shape               \u001b[0m\u001b[1m \u001b[0m┃\u001b[1m \u001b[0m\u001b[1m        Param #\u001b[0m\u001b[1m \u001b[0m┃\n",
              "┡━━━━━━━━━━━━━━━━━━━━━━━━━━━━━━━━━━━━━━╇━━━━━━━━━━━━━━━━━━━━━━━━━━━━━╇━━━━━━━━━━━━━━━━━┩\n",
              "│ embedding (\u001b[38;5;33mEmbedding\u001b[0m)                │ (\u001b[38;5;45mNone\u001b[0m, \u001b[38;5;45mNone\u001b[0m, \u001b[38;5;34m64\u001b[0m)            │           \u001b[38;5;34m2,688\u001b[0m │\n",
              "├──────────────────────────────────────┼─────────────────────────────┼─────────────────┤\n",
              "│ lstm_2 (\u001b[38;5;33mLSTM\u001b[0m)                        │ (\u001b[38;5;45mNone\u001b[0m, \u001b[38;5;34m64\u001b[0m)                  │          \u001b[38;5;34m33,024\u001b[0m │\n",
              "├──────────────────────────────────────┼─────────────────────────────┼─────────────────┤\n",
              "│ dense (\u001b[38;5;33mDense\u001b[0m)                        │ (\u001b[38;5;45mNone\u001b[0m, \u001b[38;5;34m3\u001b[0m)                   │             \u001b[38;5;34m195\u001b[0m │\n",
              "└──────────────────────────────────────┴─────────────────────────────┴─────────────────┘\n"
            ],
            "text/html": [
              "<pre style=\"white-space:pre;overflow-x:auto;line-height:normal;font-family:Menlo,'DejaVu Sans Mono',consolas,'Courier New',monospace\">┏━━━━━━━━━━━━━━━━━━━━━━━━━━━━━━━━━━━━━━┳━━━━━━━━━━━━━━━━━━━━━━━━━━━━━┳━━━━━━━━━━━━━━━━━┓\n",
              "┃<span style=\"font-weight: bold\"> Layer (type)                         </span>┃<span style=\"font-weight: bold\"> Output Shape                </span>┃<span style=\"font-weight: bold\">         Param # </span>┃\n",
              "┡━━━━━━━━━━━━━━━━━━━━━━━━━━━━━━━━━━━━━━╇━━━━━━━━━━━━━━━━━━━━━━━━━━━━━╇━━━━━━━━━━━━━━━━━┩\n",
              "│ embedding (<span style=\"color: #0087ff; text-decoration-color: #0087ff\">Embedding</span>)                │ (<span style=\"color: #00d7ff; text-decoration-color: #00d7ff\">None</span>, <span style=\"color: #00d7ff; text-decoration-color: #00d7ff\">None</span>, <span style=\"color: #00af00; text-decoration-color: #00af00\">64</span>)            │           <span style=\"color: #00af00; text-decoration-color: #00af00\">2,688</span> │\n",
              "├──────────────────────────────────────┼─────────────────────────────┼─────────────────┤\n",
              "│ lstm_2 (<span style=\"color: #0087ff; text-decoration-color: #0087ff\">LSTM</span>)                        │ (<span style=\"color: #00d7ff; text-decoration-color: #00d7ff\">None</span>, <span style=\"color: #00af00; text-decoration-color: #00af00\">64</span>)                  │          <span style=\"color: #00af00; text-decoration-color: #00af00\">33,024</span> │\n",
              "├──────────────────────────────────────┼─────────────────────────────┼─────────────────┤\n",
              "│ dense (<span style=\"color: #0087ff; text-decoration-color: #0087ff\">Dense</span>)                        │ (<span style=\"color: #00d7ff; text-decoration-color: #00d7ff\">None</span>, <span style=\"color: #00af00; text-decoration-color: #00af00\">3</span>)                   │             <span style=\"color: #00af00; text-decoration-color: #00af00\">195</span> │\n",
              "└──────────────────────────────────────┴─────────────────────────────┴─────────────────┘\n",
              "</pre>\n"
            ]
          },
          "metadata": {}
        },
        {
          "output_type": "display_data",
          "data": {
            "text/plain": [
              "\u001b[1m Total params: \u001b[0m\u001b[38;5;34m107,723\u001b[0m (420.80 KB)\n"
            ],
            "text/html": [
              "<pre style=\"white-space:pre;overflow-x:auto;line-height:normal;font-family:Menlo,'DejaVu Sans Mono',consolas,'Courier New',monospace\"><span style=\"font-weight: bold\"> Total params: </span><span style=\"color: #00af00; text-decoration-color: #00af00\">107,723</span> (420.80 KB)\n",
              "</pre>\n"
            ]
          },
          "metadata": {}
        },
        {
          "output_type": "display_data",
          "data": {
            "text/plain": [
              "\u001b[1m Trainable params: \u001b[0m\u001b[38;5;34m35,907\u001b[0m (140.26 KB)\n"
            ],
            "text/html": [
              "<pre style=\"white-space:pre;overflow-x:auto;line-height:normal;font-family:Menlo,'DejaVu Sans Mono',consolas,'Courier New',monospace\"><span style=\"font-weight: bold\"> Trainable params: </span><span style=\"color: #00af00; text-decoration-color: #00af00\">35,907</span> (140.26 KB)\n",
              "</pre>\n"
            ]
          },
          "metadata": {}
        },
        {
          "output_type": "display_data",
          "data": {
            "text/plain": [
              "\u001b[1m Non-trainable params: \u001b[0m\u001b[38;5;34m0\u001b[0m (0.00 B)\n"
            ],
            "text/html": [
              "<pre style=\"white-space:pre;overflow-x:auto;line-height:normal;font-family:Menlo,'DejaVu Sans Mono',consolas,'Courier New',monospace\"><span style=\"font-weight: bold\"> Non-trainable params: </span><span style=\"color: #00af00; text-decoration-color: #00af00\">0</span> (0.00 B)\n",
              "</pre>\n"
            ]
          },
          "metadata": {}
        },
        {
          "output_type": "display_data",
          "data": {
            "text/plain": [
              "\u001b[1m Optimizer params: \u001b[0m\u001b[38;5;34m71,816\u001b[0m (280.54 KB)\n"
            ],
            "text/html": [
              "<pre style=\"white-space:pre;overflow-x:auto;line-height:normal;font-family:Menlo,'DejaVu Sans Mono',consolas,'Courier New',monospace\"><span style=\"font-weight: bold\"> Optimizer params: </span><span style=\"color: #00af00; text-decoration-color: #00af00\">71,816</span> (280.54 KB)\n",
              "</pre>\n"
            ]
          },
          "metadata": {}
        }
      ],
      "source": [
        "model.summary()"
      ]
    },
    {
      "cell_type": "markdown",
      "metadata": {
        "id": "5rLL5-HH8cXT"
      },
      "source": [
        "# Visualizing Training History"
      ]
    },
    {
      "cell_type": "markdown",
      "metadata": {
        "id": "455phVoQwphs"
      },
      "source": [
        "After training, you can plot the training history to get a clear picture of how your model performed over time:"
      ]
    },
    {
      "cell_type": "code",
      "execution_count": 12,
      "metadata": {
        "colab": {
          "base_uri": "https://localhost:8080/",
          "height": 298
        },
        "id": "WJ58zN1JM-Cu",
        "outputId": "70cc5f68-5592-4eee-fcc1-2bc3959e87c6"
      },
      "outputs": [
        {
          "output_type": "display_data",
          "data": {
            "text/plain": [
              "<Figure size 1200x400 with 2 Axes>"
            ],
            "image/png": "[encoded data removed]"
          },
          "metadata": {}
        }
      ],
      "source": [
        "import matplotlib.pyplot as plt\n",
        "\n",
        "plt.figure(figsize=(12, 4))\n",
        "\n",
        "# Plot training & validation accuracy\n",
        "plt.subplot(121)\n",
        "plt.plot(history.history['accuracy'])\n",
        "plt.plot(history.history['val_accuracy'])\n",
        "plt.title('Model Accuracy')\n",
        "plt.ylabel('Accuracy')\n",
        "plt.xlabel('Epoch')\n",
        "plt.legend(['Train', 'Validation'], loc='upper left')\n",
        "\n",
        "# Plot training & validation loss\n",
        "plt.subplot(122)\n",
        "plt.plot(history.history['loss'])\n",
        "plt.plot(history.history['val_loss'])\n",
        "plt.title('Model Loss')\n",
        "plt.ylabel('Loss')\n",
        "plt.xlabel('Epoch')\n",
        "plt.legend(['Train', 'Validation'], loc='upper left')\n",
        "\n",
        "plt.tight_layout()\n",
        "plt.show()"
      ]
    },
    {
      "cell_type": "markdown",
      "metadata": {
        "id": "f7VytPlmNTyv"
      },
      "source": [
        "### Other Metrics that can be used to visualize the performance of the model\n",
        "\n",
        "- **Accuracy**: Gives an overall idea of model performance but may be misleading for imbalanced datasets.\n",
        "- **Confusion Matrix**: Helps visualize the model's performance for each class.\n",
        "- **Precision**: Indicates the proportion of positive identifications that were actually correct.\n",
        "- **Recall**: Indicates the proportion of actual positives that were identified correctly.\n",
        "- **F1-score**: The harmonic mean of precision and recall, providing a single score that balances both metrics.\n",
        "- **ROC Curve and AUC**: Useful for binary classification, showing the model's ability to distinguish between classes at various thresholds."
      ]
    },
    {
      "cell_type": "markdown",
      "metadata": {
        "id": "LYm59QiIwphu"
      },
      "source": [
        "# Let's Build a Real world Project to understand the concept of LSTMs better"
      ]
    },
    {
      "cell_type": "markdown",
      "metadata": {
        "id": "PdmoYMItwphu"
      },
      "source": [
        "# Stock Price Prediction using LSTM"
      ]
    },
    {
      "cell_type": "markdown",
      "metadata": {
        "id": "QI1zL5dtwphu"
      },
      "source": [
        "## Problem Statement"
      ]
    },
    {
      "cell_type": "markdown",
      "metadata": {
        "id": "4mRlk6H0wphv"
      },
      "source": [
        "In this project, you will develop a Long Short-Term Memory (LSTM) neural network model to predict stock prices. Given historical stock price data for a company, your task is to build an LSTM model that can forecast the closing price of the stock for the next day. The model will use the past 60 days of stock prices to predict the price on the 61st day."
      ]
    },
    {
      "cell_type": "markdown",
      "metadata": {
        "id": "1kGyQrQ2wphv"
      },
      "source": [
        "## Dataset"
      ]
    },
    {
      "cell_type": "markdown",
      "metadata": {
        "id": "LgqK6AKywphw"
      },
      "source": [
        "We'll be using historical stock price data for Apple Inc. (AAPL) from Yahoo Finance. The dataset includes daily stock information such as opening price, closing price, high, low, volume, and adjusted close."
      ]
    },
    {
      "cell_type": "markdown",
      "metadata": {
        "id": "rPDkACD_wphw"
      },
      "source": [
        "### How to Download the Dataset"
      ]
    },
    {
      "cell_type": "markdown",
      "metadata": {
        "id": "c4kAzxO-wphw"
      },
      "source": [
        "We'll use the historical stock price data for Apple Inc. (AAPL) from Yahoo Finance.\n",
        "\n",
        "You can manually download the dataset from this link to visualize it:\n",
        "https://query1.finance.yahoo.com/v7/finance/download/AAPL?period1=1420070400&period2=1631577600&interval=1d&events=history&includeAdjustedClose=true\n",
        "\n",
        "Save this CSV file as \"AAPL_stock_data.csv\" in your working directory.\n",
        "\n",
        "---\n",
        "\n",
        "**In this walkthrough notebook,** the dataset will be automatically downloaded using the `yfinance` library when you run the provided code. Here's how it works:\n",
        "\n",
        "1. The code defines a function `download_stock_data()` that uses `yfinance` to fetch the data.\n",
        "2. It downloads approximately 4 years of historical data (1500 days) up to the current date.\n",
        "3. The data is then saved as a CSV file named \"AAPL_stock_data.csv\" in your working directory."
      ]
    },
    {
      "cell_type": "code",
      "execution_count": 13,
      "metadata": {
        "colab": {
          "base_uri": "https://localhost:8080/"
        },
        "id": "0K6iViF5wphx",
        "outputId": "1a3086ad-e581-4091-85f2-5b3eddedc0ba"
      },
      "outputs": [
        {
          "output_type": "stream",
          "name": "stdout",
          "text": [
            "Dataset downloaded and saved as data/AAPL_stock_data.csv\n"
          ]
        }
      ],
      "source": [
        "import os\n",
        "import yfinance as yf\n",
        "from datetime import datetime, timedelta\n",
        "\n",
        "# Create a directory for storing the dataset if it does not exist\n",
        "data_dir = 'data'\n",
        "if not os.path.exists(data_dir):\n",
        "    os.makedirs(data_dir)\n",
        "\n",
        "# Automatic dataset download and save\n",
        "def download_stock_data(symbol, start_date, end_date, filename):\n",
        "    stock = yf.Ticker(symbol)\n",
        "    data = stock.history(start=start_date, end=end_date)\n",
        "    data.to_csv(filename)\n",
        "    print(f\"Dataset downloaded and saved as {filename}\")\n",
        "\n",
        "# Set the parameters for data download\n",
        "symbol = \"AAPL\"\n",
        "end_date = datetime.now().strftime('%Y-%m-%d')\n",
        "start_date = (datetime.now() - timedelta(days=1500)).strftime('%Y-%m-%d')\n",
        "filename = os.path.join(data_dir, 'AAPL_stock_data.csv')\n",
        "\n",
        "# Download and save the dataset\n",
        "download_stock_data(symbol, start_date, end_date, filename)"
      ]
    },
    {
      "cell_type": "markdown",
      "metadata": {
        "id": "0Omcpe4Lwphy"
      },
      "source": [
        "* We import the yfinance library and datetime for date handling.\n",
        "\n",
        "* The download_stock_data() function takes four parameters:\n",
        "    1. symbol: The stock symbol (e.g., \"AAPL\" for Apple)\n",
        "    2. start_date: The start date for the historical data\n",
        "    3. end_date: The end date for the historical data\n",
        "    4. filename: The name of the file to save the data\n",
        "\n",
        "* We set the parameters for data download:\n",
        "    1. end_date is set to the current date\n",
        "    2. start_date is set to 1500 days before the current date (about 4 years of data)\n",
        "    3. filename is set to \"AAPL_stock_data.csv\"\n",
        "\n",
        "* We call the download_stock_data() function to download and save the dataset before proceeding with the rest of the code."
      ]
    },
    {
      "cell_type": "code",
      "execution_count": 14,
      "metadata": {
        "id": "02v8guXCwphy"
      },
      "outputs": [],
      "source": [
        "# Necessary Libraries\n",
        "import numpy as np\n",
        "import pandas as pd\n",
        "import matplotlib.pyplot as plt\n",
        "import tensorflow as tf\n",
        "from sklearn.preprocessing import MinMaxScaler\n",
        "import yfinance as yf\n",
        "from datetime import datetime, timedelta"
      ]
    },
    {
      "cell_type": "markdown",
      "metadata": {
        "id": "sLU-p7f0wphz"
      },
      "source": [
        "## Step 1: Data Preprocessing"
      ]
    },
    {
      "cell_type": "markdown",
      "metadata": {
        "id": "OwFvhdQNwphz"
      },
      "source": [
        "- Load the downloaded CSV file into a pandas DataFrame.\n",
        "- Convert the 'Date' column to datetime and sort the data chronologically.\n",
        "- Select the 'Close' price for our prediction task.\n",
        "- Normalize the data using MinMaxScaler to scale values between 0 and 1.\n",
        "- Create sequences of 60 days for input and 1 day for output.\n",
        "- Split the data into training (80%) and testing (20%) sets."
      ]
    },
    {
      "cell_type": "code",
      "execution_count": 15,
      "metadata": {
        "colab": {
          "base_uri": "https://localhost:8080/",
          "height": 365
        },
        "id": "2jzDFUGBwphz",
        "outputId": "66838236-f74c-468d-89b0-89d77980e458"
      },
      "outputs": [
        {
          "output_type": "stream",
          "name": "stderr",
          "text": [
            "<ipython-input-15-cc9e9a610700>:3: FutureWarning: In a future version of pandas, parsing datetimes with mixed time zones will raise an error unless `utc=True`. Please specify `utc=True` to opt in to the new behaviour and silence this warning. To create a `Series` with mixed offsets and `object` dtype, please use `apply` and `datetime.datetime.strptime`\n",
            "  df['Date'] = pd.to_datetime(df['Date'])\n"
          ]
        },
        {
          "output_type": "execute_result",
          "data": {
            "text/plain": [
              "                        Date        Open        High         Low       Close  \\\n",
              "0  2021-01-04 00:00:00-05:00  130.563173  130.651177  123.952873  126.544189   \n",
              "1  2021-01-05 00:00:00-05:00  126.035732  128.822625  125.585912  128.108780   \n",
              "2  2021-01-06 00:00:00-05:00  124.891633  128.147891  123.581303  123.796432   \n",
              "3  2021-01-07 00:00:00-05:00  125.517476  128.715066  125.028548  128.020782   \n",
              "4  2021-01-08 00:00:00-05:00  129.497338  129.692921  127.346060  129.125763   \n",
              "\n",
              "      Volume  Dividends  Stock Splits  \n",
              "0  143301900        0.0           0.0  \n",
              "1   97664900        0.0           0.0  \n",
              "2  155088000        0.0           0.0  \n",
              "3  109578200        0.0           0.0  \n",
              "4  105158200        0.0           0.0  "
            ],
            "text/html": [
              "\n",
              "  <div id=\"df-2db7e5ad-1c00-4b69-b7a8-21b6cc174154\" class=\"colab-df-container\">\n",
              "    <div>\n",
              "<style scoped>\n",
              "    .dataframe tbody tr th:only-of-type {\n",
              "        vertical-align: middle;\n",
              "    }\n",
              "\n",
              "    .dataframe tbody tr th {\n",
              "        vertical-align: top;\n",
              "    }\n",
              "\n",
              "    .dataframe thead th {\n",
              "        text-align: right;\n",
              "    }\n",
              "</style>\n",
              "<table border=\"1\" class=\"dataframe\">\n",
              "  <thead>\n",
              "    <tr style=\"text-align: right;\">\n",
              "      <th></th>\n",
              "      <th>Date</th>\n",
              "      <th>Open</th>\n",
              "      <th>High</th>\n",
              "      <th>Low</th>\n",
              "      <th>Close</th>\n",
              "      <th>Volume</th>\n",
              "      <th>Dividends</th>\n",
              "      <th>Stock Splits</th>\n",
              "    </tr>\n",
              "  </thead>\n",
              "  <tbody>\n",
              "    <tr>\n",
              "      <th>0</th>\n",
              "      <td>2021-01-04 00:00:00-05:00</td>\n",
              "      <td>130.563173</td>\n",
              "      <td>130.651177</td>\n",
              "      <td>123.952873</td>\n",
              "      <td>126.544189</td>\n",
              "      <td>143301900</td>\n",
              "      <td>0.0</td>\n",
              "      <td>0.0</td>\n",
              "    </tr>\n",
              "    <tr>\n",
              "      <th>1</th>\n",
              "      <td>2021-01-05 00:00:00-05:00</td>\n",
              "      <td>126.035732</td>\n",
              "      <td>128.822625</td>\n",
              "      <td>125.585912</td>\n",
              "      <td>128.108780</td>\n",
              "      <td>97664900</td>\n",
              "      <td>0.0</td>\n",
              "      <td>0.0</td>\n",
              "    </tr>\n",
              "    <tr>\n",
              "      <th>2</th>\n",
              "      <td>2021-01-06 00:00:00-05:00</td>\n",
              "      <td>124.891633</td>\n",
              "      <td>128.147891</td>\n",
              "      <td>123.581303</td>\n",
              "      <td>123.796432</td>\n",
              "      <td>155088000</td>\n",
              "      <td>0.0</td>\n",
              "      <td>0.0</td>\n",
              "    </tr>\n",
              "    <tr>\n",
              "      <th>3</th>\n",
              "      <td>2021-01-07 00:00:00-05:00</td>\n",
              "      <td>125.517476</td>\n",
              "      <td>128.715066</td>\n",
              "      <td>125.028548</td>\n",
              "      <td>128.020782</td>\n",
              "      <td>109578200</td>\n",
              "      <td>0.0</td>\n",
              "      <td>0.0</td>\n",
              "    </tr>\n",
              "    <tr>\n",
              "      <th>4</th>\n",
              "      <td>2021-01-08 00:00:00-05:00</td>\n",
              "      <td>129.497338</td>\n",
              "      <td>129.692921</td>\n",
              "      <td>127.346060</td>\n",
              "      <td>129.125763</td>\n",
              "      <td>105158200</td>\n",
              "      <td>0.0</td>\n",
              "      <td>0.0</td>\n",
              "    </tr>\n",
              "  </tbody>\n",
              "</table>\n",
              "</div>\n",
              "    <div class=\"colab-df-buttons\">\n",
              "\n",
              "  <div class=\"colab-df-container\">\n",
              "    <button class=\"colab-df-convert\" onclick=\"convertToInteractive('df-2db7e5ad-1c00-4b69-b7a8-21b6cc174154')\"\n",
              "            title=\"Convert this dataframe to an interactive table.\"\n",
              "            style=\"display:none;\">\n",
              "\n",
              "  <svg xmlns=\"http://www.w3.org/2000/svg\" height=\"24px\" viewBox=\"0 -960 960 960\">\n",
              "    <path d=\"M120-120v-720h720v720H120Zm60-500h600v-160H180v160Zm220 220h160v-160H400v160Zm0 220h160v-160H400v160ZM180-400h160v-160H180v160Zm440 0h160v-160H620v160ZM180-180h160v-160H180v160Zm440 0h160v-160H620v160Z\"/>\n",
              "  </svg>\n",
              "    </button>\n",
              "\n",
              "  <style>\n",
              "    .colab-df-container {\n",
              "      display:flex;\n",
              "      gap: 12px;\n",
              "    }\n",
              "\n",
              "    .colab-df-convert {\n",
              "      background-color: #E8F0FE;\n",
              "      border: none;\n",
              "      border-radius: 50%;\n",
              "      cursor: pointer;\n",
              "      display: none;\n",
              "      fill: #1967D2;\n",
              "      height: 32px;\n",
              "      padding: 0 0 0 0;\n",
              "      width: 32px;\n",
              "    }\n",
              "\n",
              "    .colab-df-convert:hover {\n",
              "      background-color: #E2EBFA;\n",
              "      box-shadow: 0px 1px 2px rgba(60, 64, 67, 0.3), 0px 1px 3px 1px rgba(60, 64, 67, 0.15);\n",
              "      fill: #174EA6;\n",
              "    }\n",
              "\n",
              "    .colab-df-buttons div {\n",
              "      margin-bottom: 4px;\n",
              "    }\n",
              "\n",
              "    [theme=dark] .colab-df-convert {\n",
              "      background-color: #3B4455;\n",
              "      fill: #D2E3FC;\n",
              "    }\n",
              "\n",
              "    [theme=dark] .colab-df-convert:hover {\n",
              "      background-color: #434B5C;\n",
              "      box-shadow: 0px 1px 3px 1px rgba(0, 0, 0, 0.15);\n",
              "      filter: drop-shadow(0px 1px 2px rgba(0, 0, 0, 0.3));\n",
              "      fill: #FFFFFF;\n",
              "    }\n",
              "  </style>\n",
              "\n",
              "    <script>\n",
              "      const buttonEl =\n",
              "        document.querySelector('#df-2db7e5ad-1c00-4b69-b7a8-21b6cc174154 button.colab-df-convert');\n",
              "      buttonEl.style.display =\n",
              "        google.colab.kernel.accessAllowed ? 'block' : 'none';\n",
              "\n",
              "      async function convertToInteractive(key) {\n",
              "        const element = document.querySelector('#df-2db7e5ad-1c00-4b69-b7a8-21b6cc174154');\n",
              "        const dataTable =\n",
              "          await google.colab.kernel.invokeFunction('convertToInteractive',\n",
              "                                                    [key], {});\n",
              "        if (!dataTable) return;\n",
              "\n",
              "        const docLinkHtml = 'Like what you see? Visit the ' +\n",
              "          '<a target=\"_blank\" href=https://colab.research.google.com/notebooks/data_table.ipynb>data table notebook</a>'\n",
              "          + ' to learn more about interactive tables.';\n",
              "        element.innerHTML = '';\n",
              "        dataTable['output_type'] = 'display_data';\n",
              "        await google.colab.output.renderOutput(dataTable, element);\n",
              "        const docLink = document.createElement('div');\n",
              "        docLink.innerHTML = docLinkHtml;\n",
              "        element.appendChild(docLink);\n",
              "      }\n",
              "    </script>\n",
              "  </div>\n",
              "\n",
              "\n",
              "<div id=\"df-a9012359-5c88-4f8c-b8e5-594fe8553c86\">\n",
              "  <button class=\"colab-df-quickchart\" onclick=\"quickchart('df-a9012359-5c88-4f8c-b8e5-594fe8553c86')\"\n",
              "            title=\"Suggest charts\"\n",
              "            style=\"display:none;\">\n",
              "\n",
              "<svg xmlns=\"http://www.w3.org/2000/svg\" height=\"24px\"viewBox=\"0 0 24 24\"\n",
              "     width=\"24px\">\n",
              "    <g>\n",
              "        <path d=\"M19 3H5c-1.1 0-2 .9-2 2v14c0 1.1.9 2 2 2h14c1.1 0 2-.9 2-2V5c0-1.1-.9-2-2-2zM9 17H7v-7h2v7zm4 0h-2V7h2v10zm4 0h-2v-4h2v4z\"/>\n",
              "    </g>\n",
              "</svg>\n",
              "  </button>\n",
              "\n",
              "<style>\n",
              "  .colab-df-quickchart {\n",
              "      --bg-color: #E8F0FE;\n",
              "      --fill-color: #1967D2;\n",
              "      --hover-bg-color: #E2EBFA;\n",
              "      --hover-fill-color: #174EA6;\n",
              "      --disabled-fill-color: #AAA;\n",
              "      --disabled-bg-color: #DDD;\n",
              "  }\n",
              "\n",
              "  [theme=dark] .colab-df-quickchart {\n",
              "      --bg-color: #3B4455;\n",
              "      --fill-color: #D2E3FC;\n",
              "      --hover-bg-color: #434B5C;\n",
              "      --hover-fill-color: #FFFFFF;\n",
              "      --disabled-bg-color: #3B4455;\n",
              "      --disabled-fill-color: #666;\n",
              "  }\n",
              "\n",
              "  .colab-df-quickchart {\n",
              "    background-color: var(--bg-color);\n",
              "    border: none;\n",
              "    border-radius: 50%;\n",
              "    cursor: pointer;\n",
              "    display: none;\n",
              "    fill: var(--fill-color);\n",
              "    height: 32px;\n",
              "    padding: 0;\n",
              "    width: 32px;\n",
              "  }\n",
              "\n",
              "  .colab-df-quickchart:hover {\n",
              "    background-color: var(--hover-bg-color);\n",
              "    box-shadow: 0 1px 2px rgba(60, 64, 67, 0.3), 0 1px 3px 1px rgba(60, 64, 67, 0.15);\n",
              "    fill: var(--button-hover-fill-color);\n",
              "  }\n",
              "\n",
              "  .colab-df-quickchart-complete:disabled,\n",
              "  .colab-df-quickchart-complete:disabled:hover {\n",
              "    background-color: var(--disabled-bg-color);\n",
              "    fill: var(--disabled-fill-color);\n",
              "    box-shadow: none;\n",
              "  }\n",
              "\n",
              "  .colab-df-spinner {\n",
              "    border: 2px solid var(--fill-color);\n",
              "    border-color: transparent;\n",
              "    border-bottom-color: var(--fill-color);\n",
              "    animation:\n",
              "      spin 1s steps(1) infinite;\n",
              "  }\n",
              "\n",
              "  @keyframes spin {\n",
              "    0% {\n",
              "      border-color: transparent;\n",
              "      border-bottom-color: var(--fill-color);\n",
              "      border-left-color: var(--fill-color);\n",
              "    }\n",
              "    20% {\n",
              "      border-color: transparent;\n",
              "      border-left-color: var(--fill-color);\n",
              "      border-top-color: var(--fill-color);\n",
              "    }\n",
              "    30% {\n",
              "      border-color: transparent;\n",
              "      border-left-color: var(--fill-color);\n",
              "      border-top-color: var(--fill-color);\n",
              "      border-right-color: var(--fill-color);\n",
              "    }\n",
              "    40% {\n",
              "      border-color: transparent;\n",
              "      border-right-color: var(--fill-color);\n",
              "      border-top-color: var(--fill-color);\n",
              "    }\n",
              "    60% {\n",
              "      border-color: transparent;\n",
              "      border-right-color: var(--fill-color);\n",
              "    }\n",
              "    80% {\n",
              "      border-color: transparent;\n",
              "      border-right-color: var(--fill-color);\n",
              "      border-bottom-color: var(--fill-color);\n",
              "    }\n",
              "    90% {\n",
              "      border-color: transparent;\n",
              "      border-bottom-color: var(--fill-color);\n",
              "    }\n",
              "  }\n",
              "</style>\n",
              "\n",
              "  <script>\n",
              "    async function quickchart(key) {\n",
              "      const quickchartButtonEl =\n",
              "        document.querySelector('#' + key + ' button');\n",
              "      quickchartButtonEl.disabled = true;  // To prevent multiple clicks.\n",
              "      quickchartButtonEl.classList.add('colab-df-spinner');\n",
              "      try {\n",
              "        const charts = await google.colab.kernel.invokeFunction(\n",
              "            'suggestCharts', [key], {});\n",
              "      } catch (error) {\n",
              "        console.error('Error during call to suggestCharts:', error);\n",
              "      }\n",
              "      quickchartButtonEl.classList.remove('colab-df-spinner');\n",
              "      quickchartButtonEl.classList.add('colab-df-quickchart-complete');\n",
              "    }\n",
              "    (() => {\n",
              "      let quickchartButtonEl =\n",
              "        document.querySelector('#df-a9012359-5c88-4f8c-b8e5-594fe8553c86 button');\n",
              "      quickchartButtonEl.style.display =\n",
              "        google.colab.kernel.accessAllowed ? 'block' : 'none';\n",
              "    })();\n",
              "  </script>\n",
              "</div>\n",
              "\n",
              "    </div>\n",
              "  </div>\n"
            ],
            "application/vnd.google.colaboratory.intrinsic+json": {
              "type": "dataframe",
              "variable_name": "df",
              "summary": "{\n  \"name\": \"df\",\n  \"rows\": 1030,\n  \"fields\": [\n    {\n      \"column\": \"Date\",\n      \"properties\": {\n        \"dtype\": \"string\",\n        \"num_unique_values\": 1030,\n        \"samples\": [\n          \"2021-02-18 00:00:00-05:00\",\n          \"2021-06-10 00:00:00-04:00\",\n          \"2021-07-20 00:00:00-04:00\"\n        ],\n        \"semantic_type\": \"\",\n        \"description\": \"\"\n      }\n    },\n    {\n      \"column\": \"Open\",\n      \"properties\": {\n        \"dtype\": \"number\",\n        \"std\": 32.72295666824709,\n        \"min\": 116.56800681928502,\n        \"max\": 258.19000244140625,\n        \"num_unique_values\": 1028,\n        \"samples\": [\n          152.78718821838976,\n          151.74801937795763,\n          149.09260697122585\n        ],\n        \"semantic_type\": \"\",\n        \"description\": \"\"\n      }\n    },\n    {\n      \"column\": \"High\",\n      \"properties\": {\n        \"dtype\": \"number\",\n        \"std\": 32.87391291354586,\n        \"min\": 117.90967152587208,\n        \"max\": 260.1000061035156,\n        \"num_unique_values\": 1028,\n        \"samples\": [\n          153.3700929479772,\n          154.11675866505783,\n          151.65773204162863\n        ],\n        \"semantic_type\": \"\",\n        \"description\": \"\"\n      }\n    },\n    {\n      \"column\": \"Low\",\n      \"properties\": {\n        \"dtype\": \"number\",\n        \"std\": 32.583103906339765,\n        \"min\": 113.80634050910876,\n        \"max\": 257.6300048828125,\n        \"num_unique_values\": 1030,\n        \"samples\": [\n          124.77469204286828,\n          123.54458473598592,\n          140.24088045595803\n        ],\n        \"semantic_type\": \"\",\n        \"description\": \"\"\n      }\n    },\n    {\n      \"column\": \"Close\",\n      \"properties\": {\n        \"dtype\": \"number\",\n        \"std\": 32.774905025769655,\n        \"min\": 113.95323944091795,\n        \"max\": 259.0199890136719,\n        \"num_unique_values\": 1017,\n        \"samples\": [\n          222.4152984619141,\n          127.0271224975586,\n          133.8623046875\n        ],\n        \"semantic_type\": \"\",\n        \"description\": \"\"\n      }\n    },\n    {\n      \"column\": \"Volume\",\n      \"properties\": {\n        \"dtype\": \"number\",\n        \"std\": 30079492,\n        \"min\": 23234700,\n        \"max\": 318679900,\n        \"num_unique_values\": 1028,\n        \"samples\": [\n          162278800,\n          59144100,\n          65086600\n        ],\n        \"semantic_type\": \"\",\n        \"description\": \"\"\n      }\n    },\n    {\n      \"column\": \"Dividends\",\n      \"properties\": {\n        \"dtype\": \"number\",\n        \"std\": 0.0287701550162162,\n        \"min\": 0.0,\n        \"max\": 0.25,\n        \"num_unique_values\": 6,\n        \"samples\": [\n          0.0,\n          0.205,\n          0.25\n        ],\n        \"semantic_type\": \"\",\n        \"description\": \"\"\n      }\n    },\n    {\n      \"column\": \"Stock Splits\",\n      \"properties\": {\n        \"dtype\": \"number\",\n        \"std\": 0.0,\n        \"min\": 0.0,\n        \"max\": 0.0,\n        \"num_unique_values\": 1,\n        \"samples\": [\n          0.0\n        ],\n        \"semantic_type\": \"\",\n        \"description\": \"\"\n      }\n    }\n  ]\n}"
            }
          },
          "metadata": {},
          "execution_count": 15
        }
      ],
      "source": [
        "# Load the dataset\n",
        "df = pd.read_csv('data/AAPL_stock_data.csv')\n",
        "df['Date'] = pd.to_datetime(df['Date'])\n",
        "df = df.sort_values('Date')\n",
        "df.head()"
      ]
    },
    {
      "cell_type": "code",
      "execution_count": 16,
      "metadata": {
        "id": "YWQ9UTivwphz"
      },
      "outputs": [],
      "source": [
        "# Select the 'Close' price for our prediction task\n",
        "data = df['Close'].values.reshape(-1, 1)\n",
        "\n",
        "# Normalize the data\n",
        "scaler = MinMaxScaler()\n",
        "data_normalized = scaler.fit_transform(data)"
      ]
    },
    {
      "cell_type": "code",
      "execution_count": 17,
      "metadata": {
        "id": "gn87KnWOwph2"
      },
      "outputs": [],
      "source": [
        "# Create sequences of 60 days for input and 1 day for output\n",
        "def create_sequences(data, seq_length):\n",
        "    X = []\n",
        "    y = []\n",
        "    for i in range(len(data) - seq_length):\n",
        "        X.append(data[i:(i + seq_length)])\n",
        "        y.append(data[i + seq_length])\n",
        "    return np.array(X), np.array(y)\n",
        "\n",
        "seq_length = 60\n",
        "X, y = create_sequences(data_normalized, seq_length)"
      ]
    },
    {
      "cell_type": "code",
      "execution_count": 18,
      "metadata": {
        "id": "jt36KaBtwph3"
      },
      "outputs": [],
      "source": [
        "# Split the data into training and testing sets\n",
        "train_size = int(len(X) * 0.8)\n",
        "X_train, X_test = X[:train_size], X[train_size:]\n",
        "y_train, y_test = y[:train_size], y[train_size:]"
      ]
    },
    {
      "cell_type": "markdown",
      "metadata": {
        "id": "lvvXjHIDwph3"
      },
      "source": [
        "## Step 2: Building the LSTM Model"
      ]
    },
    {
      "cell_type": "markdown",
      "metadata": {
        "id": "AiDjvuI-wph3"
      },
      "source": [
        "- Create a Sequential model using TensorFlow/Keras.\n",
        "- Add two LSTM layers with 50 units each and ReLU activation.\n",
        "- Add a Dense layer for the output.\n",
        "- Compile the model using Adam optimizer and Mean Squared Error loss."
      ]
    },
    {
      "cell_type": "code",
      "execution_count": 19,
      "metadata": {
        "colab": {
          "base_uri": "https://localhost:8080/"
        },
        "id": "6TMkDl9awph4",
        "outputId": "7c4916a0-b20f-480b-80f6-8c6cf4dd1033"
      },
      "outputs": [
        {
          "output_type": "stream",
          "name": "stderr",
          "text": [
            "/usr/local/lib/python3.11/dist-packages/keras/src/layers/rnn/rnn.py:200: UserWarning: Do not pass an `input_shape`/`input_dim` argument to a layer. When using Sequential models, prefer using an `Input(shape)` object as the first layer in the model instead.\n",
            "  super().__init__(**kwargs)\n"
          ]
        }
      ],
      "source": [
        "model = tf.keras.Sequential([\n",
        "    tf.keras.layers.LSTM(50, activation='relu', input_shape=(seq_length, 1), return_sequences=True),\n",
        "    tf.keras.layers.LSTM(50, activation='relu'),\n",
        "    tf.keras.layers.Dense(1)\n",
        "])\n",
        "\n",
        "model.compile(optimizer='adam', loss='mean_squared_error')"
      ]
    },
    {
      "cell_type": "markdown",
      "metadata": {
        "id": "x-uVB7m3wph4"
      },
      "source": [
        "## Step 3: Training the Model"
      ]
    },
    {
      "cell_type": "markdown",
      "metadata": {
        "id": "eLKrhbV2wph4"
      },
      "source": [
        "- Fit the model on the training data.\n",
        "- Use 50 epochs and a batch size of 32.\n",
        "- Set aside 10% of the training data for validation."
      ]
    },
    {
      "cell_type": "code",
      "execution_count": 20,
      "metadata": {
        "colab": {
          "base_uri": "https://localhost:8080/"
        },
        "id": "GShVr-Hfwph5",
        "outputId": "df981073-9c26-4541-b3dc-14fd9b05d274"
      },
      "outputs": [
        {
          "output_type": "stream",
          "name": "stdout",
          "text": [
            "Epoch 1/50\n",
            "\u001b[1m22/22\u001b[0m \u001b[32m━━━━━━━━━━━━━━━━━━━━\u001b[0m\u001b[37m\u001b[0m \u001b[1m9s\u001b[0m 182ms/step - loss: 0.0894 - val_loss: 0.0419\n",
            "Epoch 2/50\n",
            "\u001b[1m22/22\u001b[0m \u001b[32m━━━━━━━━━━━━━━━━━━━━\u001b[0m\u001b[37m\u001b[0m \u001b[1m0s\u001b[0m 20ms/step - loss: 0.0100 - val_loss: 0.0016\n",
            "Epoch 3/50\n",
            "\u001b[1m22/22\u001b[0m \u001b[32m━━━━━━━━━━━━━━━━━━━━\u001b[0m\u001b[37m\u001b[0m \u001b[1m0s\u001b[0m 14ms/step - loss: 0.0031 - val_loss: 0.0017\n",
            "Epoch 4/50\n",
            "\u001b[1m22/22\u001b[0m \u001b[32m━━━━━━━━━━━━━━━━━━━━\u001b[0m\u001b[37m\u001b[0m \u001b[1m1s\u001b[0m 16ms/step - loss: 0.0022 - val_loss: 8.9144e-04\n",
            "Epoch 5/50\n",
            "\u001b[1m22/22\u001b[0m \u001b[32m━━━━━━━━━━━━━━━━━━━━\u001b[0m\u001b[37m\u001b[0m \u001b[1m0s\u001b[0m 14ms/step - loss: 0.0023 - val_loss: 9.3361e-04\n",
            "Epoch 6/50\n",
            "\u001b[1m22/22\u001b[0m \u001b[32m━━━━━━━━━━━━━━━━━━━━\u001b[0m\u001b[37m\u001b[0m \u001b[1m0s\u001b[0m 14ms/step - loss: 0.0019 - val_loss: 0.0012\n",
            "Epoch 7/50\n",
            "\u001b[1m22/22\u001b[0m \u001b[32m━━━━━━━━━━━━━━━━━━━━\u001b[0m\u001b[37m\u001b[0m \u001b[1m0s\u001b[0m 14ms/step - loss: 0.0018 - val_loss: 8.0741e-04\n",
            "Epoch 8/50\n",
            "\u001b[1m22/22\u001b[0m \u001b[32m━━━━━━━━━━━━━━━━━━━━\u001b[0m\u001b[37m\u001b[0m \u001b[1m0s\u001b[0m 14ms/step - loss: 0.0017 - val_loss: 0.0013\n",
            "Epoch 9/50\n",
            "\u001b[1m22/22\u001b[0m \u001b[32m━━━━━━━━━━━━━━━━━━━━\u001b[0m\u001b[37m\u001b[0m \u001b[1m0s\u001b[0m 15ms/step - loss: 0.0016 - val_loss: 0.0012\n",
            "Epoch 10/50\n",
            "\u001b[1m22/22\u001b[0m \u001b[32m━━━━━━━━━━━━━━━━━━━━\u001b[0m\u001b[37m\u001b[0m \u001b[1m1s\u001b[0m 14ms/step - loss: 0.0014 - val_loss: 0.0010\n",
            "Epoch 11/50\n",
            "\u001b[1m22/22\u001b[0m \u001b[32m━━━━━━━━━━━━━━━━━━━━\u001b[0m\u001b[37m\u001b[0m \u001b[1m1s\u001b[0m 14ms/step - loss: 0.0014 - val_loss: 8.5077e-04\n",
            "Epoch 12/50\n",
            "\u001b[1m22/22\u001b[0m \u001b[32m━━━━━━━━━━━━━━━━━━━━\u001b[0m\u001b[37m\u001b[0m \u001b[1m0s\u001b[0m 14ms/step - loss: 0.0011 - val_loss: 8.3301e-04\n",
            "Epoch 13/50\n",
            "\u001b[1m22/22\u001b[0m \u001b[32m━━━━━━━━━━━━━━━━━━━━\u001b[0m\u001b[37m\u001b[0m \u001b[1m0s\u001b[0m 14ms/step - loss: 0.0013 - val_loss: 8.6573e-04\n",
            "Epoch 14/50\n",
            "\u001b[1m22/22\u001b[0m \u001b[32m━━━━━━━━━━━━━━━━━━━━\u001b[0m\u001b[37m\u001b[0m \u001b[1m1s\u001b[0m 16ms/step - loss: 0.0012 - val_loss: 0.0010\n",
            "Epoch 15/50\n",
            "\u001b[1m22/22\u001b[0m \u001b[32m━━━━━━━━━━━━━━━━━━━━\u001b[0m\u001b[37m\u001b[0m \u001b[1m1s\u001b[0m 30ms/step - loss: 0.0011 - val_loss: 8.7405e-04\n",
            "Epoch 16/50\n",
            "\u001b[1m22/22\u001b[0m \u001b[32m━━━━━━━━━━━━━━━━━━━━\u001b[0m\u001b[37m\u001b[0m \u001b[1m1s\u001b[0m 24ms/step - loss: 0.0011 - val_loss: 9.5565e-04\n",
            "Epoch 17/50\n",
            "\u001b[1m22/22\u001b[0m \u001b[32m━━━━━━━━━━━━━━━━━━━━\u001b[0m\u001b[37m\u001b[0m \u001b[1m1s\u001b[0m 30ms/step - loss: 0.0010 - val_loss: 8.7129e-04\n",
            "Epoch 18/50\n",
            "\u001b[1m22/22\u001b[0m \u001b[32m━━━━━━━━━━━━━━━━━━━━\u001b[0m\u001b[37m\u001b[0m \u001b[1m1s\u001b[0m 37ms/step - loss: 0.0011 - val_loss: 7.5313e-04\n",
            "Epoch 19/50\n",
            "\u001b[1m22/22\u001b[0m \u001b[32m━━━━━━━━━━━━━━━━━━━━\u001b[0m\u001b[37m\u001b[0m \u001b[1m1s\u001b[0m 24ms/step - loss: 9.6182e-04 - val_loss: 8.7491e-04\n",
            "Epoch 20/50\n",
            "\u001b[1m22/22\u001b[0m \u001b[32m━━━━━━━━━━━━━━━━━━━━\u001b[0m\u001b[37m\u001b[0m \u001b[1m1s\u001b[0m 22ms/step - loss: 8.7456e-04 - val_loss: 7.4073e-04\n",
            "Epoch 21/50\n",
            "\u001b[1m22/22\u001b[0m \u001b[32m━━━━━━━━━━━━━━━━━━━━\u001b[0m\u001b[37m\u001b[0m \u001b[1m1s\u001b[0m 20ms/step - loss: 8.6410e-04 - val_loss: 7.8604e-04\n",
            "Epoch 22/50\n",
            "\u001b[1m22/22\u001b[0m \u001b[32m━━━━━━━━━━━━━━━━━━━━\u001b[0m\u001b[37m\u001b[0m \u001b[1m0s\u001b[0m 19ms/step - loss: 8.4804e-04 - val_loss: 7.6087e-04\n",
            "Epoch 23/50\n",
            "\u001b[1m22/22\u001b[0m \u001b[32m━━━━━━━━━━━━━━━━━━━━\u001b[0m\u001b[37m\u001b[0m \u001b[1m1s\u001b[0m 14ms/step - loss: 9.4423e-04 - val_loss: 8.6669e-04\n",
            "Epoch 24/50\n",
            "\u001b[1m22/22\u001b[0m \u001b[32m━━━━━━━━━━━━━━━━━━━━\u001b[0m\u001b[37m\u001b[0m \u001b[1m0s\u001b[0m 14ms/step - loss: 8.4345e-04 - val_loss: 0.0016\n",
            "Epoch 25/50\n",
            "\u001b[1m22/22\u001b[0m \u001b[32m━━━━━━━━━━━━━━━━━━━━\u001b[0m\u001b[37m\u001b[0m \u001b[1m0s\u001b[0m 16ms/step - loss: 9.6360e-04 - val_loss: 7.7903e-04\n",
            "Epoch 26/50\n",
            "\u001b[1m22/22\u001b[0m \u001b[32m━━━━━━━━━━━━━━━━━━━━\u001b[0m\u001b[37m\u001b[0m \u001b[1m0s\u001b[0m 14ms/step - loss: 8.5461e-04 - val_loss: 9.5775e-04\n",
            "Epoch 27/50\n",
            "\u001b[1m22/22\u001b[0m \u001b[32m━━━━━━━━━━━━━━━━━━━━\u001b[0m\u001b[37m\u001b[0m \u001b[1m1s\u001b[0m 16ms/step - loss: 8.5701e-04 - val_loss: 6.7118e-04\n",
            "Epoch 28/50\n",
            "\u001b[1m22/22\u001b[0m \u001b[32m━━━━━━━━━━━━━━━━━━━━\u001b[0m\u001b[37m\u001b[0m \u001b[1m0s\u001b[0m 14ms/step - loss: 6.6594e-04 - val_loss: 7.5747e-04\n",
            "Epoch 29/50\n",
            "\u001b[1m22/22\u001b[0m \u001b[32m━━━━━━━━━━━━━━━━━━━━\u001b[0m\u001b[37m\u001b[0m \u001b[1m0s\u001b[0m 14ms/step - loss: 7.9321e-04 - val_loss: 6.1772e-04\n",
            "Epoch 30/50\n",
            "\u001b[1m22/22\u001b[0m \u001b[32m━━━━━━━━━━━━━━━━━━━━\u001b[0m\u001b[37m\u001b[0m \u001b[1m1s\u001b[0m 14ms/step - loss: 6.0908e-04 - val_loss: 7.0515e-04\n",
            "Epoch 31/50\n",
            "\u001b[1m22/22\u001b[0m \u001b[32m━━━━━━━━━━━━━━━━━━━━\u001b[0m\u001b[37m\u001b[0m \u001b[1m1s\u001b[0m 16ms/step - loss: 7.2696e-04 - val_loss: 5.6333e-04\n",
            "Epoch 32/50\n",
            "\u001b[1m22/22\u001b[0m \u001b[32m━━━━━━━━━━━━━━━━━━━━\u001b[0m\u001b[37m\u001b[0m \u001b[1m1s\u001b[0m 14ms/step - loss: 6.1114e-04 - val_loss: 6.4773e-04\n",
            "Epoch 33/50\n",
            "\u001b[1m22/22\u001b[0m \u001b[32m━━━━━━━━━━━━━━━━━━━━\u001b[0m\u001b[37m\u001b[0m \u001b[1m0s\u001b[0m 14ms/step - loss: 5.9845e-04 - val_loss: 7.0148e-04\n",
            "Epoch 34/50\n",
            "\u001b[1m22/22\u001b[0m \u001b[32m━━━━━━━━━━━━━━━━━━━━\u001b[0m\u001b[37m\u001b[0m \u001b[1m0s\u001b[0m 14ms/step - loss: 6.0025e-04 - val_loss: 6.5202e-04\n",
            "Epoch 35/50\n",
            "\u001b[1m22/22\u001b[0m \u001b[32m━━━━━━━━━━━━━━━━━━━━\u001b[0m\u001b[37m\u001b[0m \u001b[1m1s\u001b[0m 14ms/step - loss: 6.8302e-04 - val_loss: 6.2493e-04\n",
            "Epoch 36/50\n",
            "\u001b[1m22/22\u001b[0m \u001b[32m━━━━━━━━━━━━━━━━━━━━\u001b[0m\u001b[37m\u001b[0m \u001b[1m1s\u001b[0m 16ms/step - loss: 6.8439e-04 - val_loss: 9.5125e-04\n",
            "Epoch 37/50\n",
            "\u001b[1m22/22\u001b[0m \u001b[32m━━━━━━━━━━━━━━━━━━━━\u001b[0m\u001b[37m\u001b[0m \u001b[1m0s\u001b[0m 14ms/step - loss: 7.5512e-04 - val_loss: 5.3612e-04\n",
            "Epoch 38/50\n",
            "\u001b[1m22/22\u001b[0m \u001b[32m━━━━━━━━━━━━━━━━━━━━\u001b[0m\u001b[37m\u001b[0m \u001b[1m1s\u001b[0m 14ms/step - loss: 7.1275e-04 - val_loss: 5.0794e-04\n",
            "Epoch 39/50\n",
            "\u001b[1m22/22\u001b[0m \u001b[32m━━━━━━━━━━━━━━━━━━━━\u001b[0m\u001b[37m\u001b[0m \u001b[1m0s\u001b[0m 14ms/step - loss: 6.7675e-04 - val_loss: 5.6455e-04\n",
            "Epoch 40/50\n",
            "\u001b[1m22/22\u001b[0m \u001b[32m━━━━━━━━━━━━━━━━━━━━\u001b[0m\u001b[37m\u001b[0m \u001b[1m1s\u001b[0m 14ms/step - loss: 5.8541e-04 - val_loss: 4.6987e-04\n",
            "Epoch 41/50\n",
            "\u001b[1m22/22\u001b[0m \u001b[32m━━━━━━━━━━━━━━━━━━━━\u001b[0m\u001b[37m\u001b[0m \u001b[1m0s\u001b[0m 14ms/step - loss: 6.1438e-04 - val_loss: 4.4475e-04\n",
            "Epoch 42/50\n",
            "\u001b[1m22/22\u001b[0m \u001b[32m━━━━━━━━━━━━━━━━━━━━\u001b[0m\u001b[37m\u001b[0m \u001b[1m0s\u001b[0m 14ms/step - loss: 5.9594e-04 - val_loss: 4.4751e-04\n",
            "Epoch 43/50\n",
            "\u001b[1m22/22\u001b[0m \u001b[32m━━━━━━━━━━━━━━━━━━━━\u001b[0m\u001b[37m\u001b[0m \u001b[1m0s\u001b[0m 16ms/step - loss: 5.0432e-04 - val_loss: 8.4540e-04\n",
            "Epoch 44/50\n",
            "\u001b[1m22/22\u001b[0m \u001b[32m━━━━━━━━━━━━━━━━━━━━\u001b[0m\u001b[37m\u001b[0m \u001b[1m0s\u001b[0m 16ms/step - loss: 7.5549e-04 - val_loss: 9.9847e-04\n",
            "Epoch 45/50\n",
            "\u001b[1m22/22\u001b[0m \u001b[32m━━━━━━━━━━━━━━━━━━━━\u001b[0m\u001b[37m\u001b[0m \u001b[1m0s\u001b[0m 17ms/step - loss: 6.3979e-04 - val_loss: 4.6200e-04\n",
            "Epoch 46/50\n",
            "\u001b[1m22/22\u001b[0m \u001b[32m━━━━━━━━━━━━━━━━━━━━\u001b[0m\u001b[37m\u001b[0m \u001b[1m0s\u001b[0m 17ms/step - loss: 5.5115e-04 - val_loss: 7.7715e-04\n",
            "Epoch 47/50\n",
            "\u001b[1m22/22\u001b[0m \u001b[32m━━━━━━━━━━━━━━━━━━━━\u001b[0m\u001b[37m\u001b[0m \u001b[1m0s\u001b[0m 17ms/step - loss: 5.7152e-04 - val_loss: 5.2713e-04\n",
            "Epoch 48/50\n",
            "\u001b[1m22/22\u001b[0m \u001b[32m━━━━━━━━━━━━━━━━━━━━\u001b[0m\u001b[37m\u001b[0m \u001b[1m1s\u001b[0m 15ms/step - loss: 6.9772e-04 - val_loss: 4.4990e-04\n",
            "Epoch 49/50\n",
            "\u001b[1m22/22\u001b[0m \u001b[32m━━━━━━━━━━━━━━━━━━━━\u001b[0m\u001b[37m\u001b[0m \u001b[1m0s\u001b[0m 14ms/step - loss: 5.0314e-04 - val_loss: 4.1717e-04\n",
            "Epoch 50/50\n",
            "\u001b[1m22/22\u001b[0m \u001b[32m━━━━━━━━━━━━━━━━━━━━\u001b[0m\u001b[37m\u001b[0m \u001b[1m1s\u001b[0m 14ms/step - loss: 5.0465e-04 - val_loss: 4.1039e-04\n"
          ]
        }
      ],
      "source": [
        "# Training the Model\n",
        "history = model.fit(X_train, y_train, epochs=50, batch_size=32, validation_split=0.1, verbose=1)"
      ]
    },
    {
      "cell_type": "markdown",
      "metadata": {
        "id": "xMKT93Spwph5"
      },
      "source": [
        "## Step 4: Making Predictions"
      ]
    },
    {
      "cell_type": "markdown",
      "metadata": {
        "id": "_lxm0BrUwph6"
      },
      "source": [
        "- Use the trained model to make predictions on the test set.\n",
        "- Inverse transform the predictions and actual values to get real stock prices."
      ]
    },
    {
      "cell_type": "code",
      "execution_count": 21,
      "metadata": {
        "colab": {
          "base_uri": "https://localhost:8080/"
        },
        "id": "PU5Ri-NSwph6",
        "outputId": "bcf828b6-c697-4a18-f566-20f41b371abc"
      },
      "outputs": [
        {
          "output_type": "stream",
          "name": "stdout",
          "text": [
            "\u001b[1m7/7\u001b[0m \u001b[32m━━━━━━━━━━━━━━━━━━━━\u001b[0m\u001b[37m\u001b[0m \u001b[1m1s\u001b[0m 112ms/step\n"
          ]
        }
      ],
      "source": [
        "y_pred = model.predict(X_test)\n",
        "\n",
        "# Inverse transform the predictions and actual values\n",
        "y_pred = scaler.inverse_transform(y_pred)\n",
        "y_test = scaler.inverse_transform(y_test)"
      ]
    },
    {
      "cell_type": "markdown",
      "metadata": {
        "id": "qaELXDQkwph6"
      },
      "source": [
        "## Step 5: Evaluating Model Performance"
      ]
    },
    {
      "cell_type": "markdown",
      "metadata": {
        "id": "bokeIk0Ywph7"
      },
      "source": [
        "- Calculate the Root Mean Squared Error (RMSE) between predicted and actual prices.\n",
        "- Plot the actual vs. predicted stock prices over time."
      ]
    },
    {
      "cell_type": "code",
      "execution_count": 22,
      "metadata": {
        "colab": {
          "base_uri": "https://localhost:8080/"
        },
        "id": "-R1BJy_owph7",
        "outputId": "e90321bb-536e-45b8-aafd-d6e1361bac4a"
      },
      "outputs": [
        {
          "output_type": "stream",
          "name": "stdout",
          "text": [
            "Root Mean Squared Error: 5.831963900306638\n"
          ]
        }
      ],
      "source": [
        "# Evaluating Model Performance\n",
        "\n",
        "mse = np.mean((y_pred - y_test)**2)\n",
        "rmse = np.sqrt(mse)\n",
        "print(f\"Root Mean Squared Error: {rmse}\")"
      ]
    },
    {
      "cell_type": "code",
      "execution_count": 23,
      "metadata": {
        "colab": {
          "base_uri": "https://localhost:8080/",
          "height": 484
        },
        "id": "vnjPK084wph8",
        "outputId": "fd4aa5f0-a683-4198-88c5-431fa89d2119"
      },
      "outputs": [
        {
          "output_type": "display_data",
          "data": {
            "text/plain": [
              "<Figure size 1200x600 with 1 Axes>"
            ],
            "image/png": "[encoded data removed]"
          },
          "metadata": {}
        }
      ],
      "source": [
        "# Plotting the results\n",
        "plt.figure(figsize=(12, 6))\n",
        "plt.plot(df['Date'].values[-len(y_test):], y_test, label='Actual Price')\n",
        "plt.plot(df['Date'].values[-len(y_pred):], y_pred, label='Predicted Price')\n",
        "plt.title('AAPL Stock Price Prediction')\n",
        "plt.xlabel('Date')\n",
        "plt.ylabel('Stock Price')\n",
        "plt.legend()\n",
        "plt.show()"
      ]
    },
    {
      "cell_type": "markdown",
      "metadata": {
        "id": "LdnzOtV4wph8"
      },
      "source": [
        "## Overview of the results"
      ]
    },
    {
      "cell_type": "markdown",
      "metadata": {
        "id": "pgXWaqhdwph8"
      },
      "source": [
        "The graph shows the performance of an LSTM (Long Short-Term Memory) model in predicting Apple Inc. (AAPL) stock prices over a period from December 2023 to October 2024. The blue line represents the actual stock price, while the orange line shows the model's predictions."
      ]
    },
    {
      "cell_type": "markdown",
      "metadata": {
        "id": "XHdVN7oFwph9"
      },
      "source": [
        "## Key Observations"
      ]
    },
    {
      "cell_type": "markdown",
      "metadata": {
        "id": "_cXjCA87wph9"
      },
      "source": [
        "\n",
        "1. **Overall Trend Capture**: The LSTM model successfully captures the general trend of AAPL stock prices. It follows both upward and downward movements in the stock price over time.\n",
        "\n",
        "2. **Lag in Predictions**: There's a noticeable lag in the predicted prices compared to actual prices. The orange line (predictions) often trails slightly behind the blue line (actual prices), especially during sharp price changes.\n",
        "\n",
        "3. **Accuracy in Stable Periods**: The model performs well during periods of relative price stability, closely matching the actual price movements.\n",
        "\n",
        "4. **Difficulty with Sudden Changes**: The LSTM struggles to predict sudden, sharp price movements accurately. This is evident in areas where there are quick spikes or drops in the actual price.\n",
        "\n",
        "5. **Long-term Trend Alignment**: Despite short-term discrepancies, the model aligns well with long-term price trends, indicating good capture of underlying patterns.\n",
        "\n",
        "6. **Price Range**: The model accurately predicts the general price range, with predictions mostly falling within the same range as actual prices (approximately $165 to $235)."
      ]
    },
    {
      "cell_type": "markdown",
      "metadata": {
        "id": "X2TtTSovwph9"
      },
      "source": [
        "## Strengths of the Model"
      ]
    },
    {
      "cell_type": "markdown",
      "metadata": {
        "id": "l2zeUbHewph-"
      },
      "source": [
        "- Good at capturing overall market trends\n",
        "- Accurate in predicting the general price range\n",
        "- Performs well during periods of stable or gradual price changes"
      ]
    },
    {
      "cell_type": "markdown",
      "metadata": {
        "id": "wdGFiVKPwph-"
      },
      "source": [
        "## Limitations of the Model"
      ]
    },
    {
      "cell_type": "markdown",
      "metadata": {
        "id": "hzwM-9VcwpiA"
      },
      "source": [
        "- Struggles with sudden, sharp price movements\n",
        "- Exhibits a lag in responding to price changes\n",
        "- May underestimate extreme highs and lows"
      ]
    }
  ],
  "metadata": {
    "colab": {
      "provenance": [],
      "gpuType": "T4"
    },
    "kernelspec": {
      "display_name": "Python 3",
      "name": "python3"
    },
    "language_info": {
      "codemirror_mode": {
        "name": "ipython",
        "version": 3
      },
      "file_extension": ".py",
      "mimetype": "text/x-python",
      "name": "python",
      "nbconvert_exporter": "python",
      "pygments_lexer": "ipython3",
      "version": "3.12.6"
    },
    "accelerator": "GPU"
  },
  "nbformat": 4,
  "nbformat_minor": 0
}