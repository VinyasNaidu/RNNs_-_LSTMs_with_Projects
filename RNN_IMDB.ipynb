{
  "cells": [
    {
      "cell_type": "markdown",
      "metadata": {
        "id": "ePTJ548EONuN"
      },
      "source": [
        "<center>\n",
        "    <h1>Recurrent Neural Networks(RNNs)</h1>\n",
        "</center>"
      ]
    },
    {
      "cell_type": "markdown",
      "metadata": {
        "id": "6JpLigzlOWIe"
      },
      "source": [
        "# Brief Recap\n",
        "\n",
        "Recurrent Neural Networks (RNNs) are a type of artificial neural network designed for processing sequential data, where the output depends not just on the current input but also on previous inputs. This makes them particularly well-suited for tasks like time series forecasting, language modeling, speech recognition, and machine translation. <br>\n",
        "They were introduced in the 1980s. The foundational work on RNNs is attributed to John Hopfield, who introduced the Hopfield Network in 1982, and David Rumelhart, along with Geoffrey Hinton and Ronald J. Williams, who formalized the concept of backpropagation through time (BPTT) in the mid-1980s.\n",
        "\n"
      ]
    },
    {
      "cell_type": "markdown",
      "metadata": {
        "id": "AjzcBTOwOdy5"
      },
      "source": [
        "## RNN Architecture Description\n",
        "\n",
        "\n",
        "<img src='assets/rnn.png' width=500/>\n",
        "\n",
        "1. **Input Layer:** The input to an RNN is typically a sequence of vectors, where each element of the sequence corresponds to one time step. For example, in a sequence of words (like a sentence), each word can be represented as a vector (often a word embedding).\n",
        "2. **Hidden Layer:** The defining feature of an RNN is its hidden state, which acts as a memory of the network. This state is updated at each time step based on the current input and the previous hidden state.\n",
        "3. **Output Layer:** At each time step, the RNN can produce an output, which might be a prediction(e.g., the next word in a sentence), a classification(e.g., positive or negative sentiment of a sentence) or a final output after the whole sequence has been processed(e.g., classifying a video).  \n",
        "4. **Recurrent Loop:** Unlike traditional neural networks, which process inputs independently, RNNs have recurrent connections that loop information back into the network. This loop allows information to flow from one time step to the next."
      ]
    },
    {
      "cell_type": "markdown",
      "metadata": {
        "id": "0xKeRJctOiL1"
      },
      "source": [
        "## Advantages of RNNs\n",
        "* **Sequential Data Processing:** They can process input data one element at a time while retaining information about previous inputs, making them ideal for tasks where the order of data matters.\n",
        "* **Memory of previous inputs:** Retains past information through hidden states, capturing context and temporal dependencies.\n",
        "* **Parameter Efficiency:** Uses shared weights across time steps, reducing the number of parameters.\n",
        "* **Variable-Length Inputs:** Can handle sequences of different lengths without architectural changes.\n",
        "* **Contextual Understanding:** Captures broader context in tasks like sentiment analysis and question answering."
      ]
    },
    {
      "cell_type": "markdown",
      "metadata": {
        "id": "iEu3F362OltO"
      },
      "source": [
        "# Implementing RNNs with TensorFlow\n",
        "\n",
        "TensorFlow provides an easy way to implement LSTM layers using the `tf.keras.layers.SimpleRNN` class. Here's an overview of the key components:\n",
        "* `units`: Number of neurons in an RNN layer\n",
        "* `input_shape` (`timesteps`, `input_dim`): Defines shape of the input to the RNN.`timesteps` refers to the number of time steps in each input sequence, and `input_dim` refers to the number of features in each time step.\n",
        "* `return_sequences`: Determines whether to return the output for each time step (`True`) or only the final time step's output (`False`).\n",
        "* `activation`: Specifies the activation function for the output layer.\n",
        "\n",
        "For more detailed information, refer to the TensorFlow documentation on [SimpleRNN](https://www.tensorflow.org/api_docs/python/tf/keras/layers/SimpleRNN)."
      ]
    },
    {
      "cell_type": "code",
      "execution_count": 1,
      "metadata": {
        "colab": {
          "base_uri": "https://localhost:8080/",
          "height": 193
        },
        "id": "EPf7Wq2BN5XU",
        "outputId": "e29eb16f-e0b0-4541-fce7-7ba932df2de2"
      },
      "outputs": [
        {
          "output_type": "display_data",
          "data": {
            "text/plain": [
              "\u001b[1mModel: \"sequential\"\u001b[0m\n"
            ],
            "text/html": [
              "<pre style=\"white-space:pre;overflow-x:auto;line-height:normal;font-family:Menlo,'DejaVu Sans Mono',consolas,'Courier New',monospace\"><span style=\"font-weight: bold\">Model: \"sequential\"</span>\n",
              "</pre>\n"
            ]
          },
          "metadata": {}
        },
        {
          "output_type": "display_data",
          "data": {
            "text/plain": [
              "┏━━━━━━━━━━━━━━━━━━━━━━━━━━━━━━━━━━━━━━┳━━━━━━━━━━━━━━━━━━━━━━━━━━━━━┳━━━━━━━━━━━━━━━━━┓\n",
              "┃\u001b[1m \u001b[0m\u001b[1mLayer (type)                        \u001b[0m\u001b[1m \u001b[0m┃\u001b[1m \u001b[0m\u001b[1mOutput Shape               \u001b[0m\u001b[1m \u001b[0m┃\u001b[1m \u001b[0m\u001b[1m        Param #\u001b[0m\u001b[1m \u001b[0m┃\n",
              "┡━━━━━━━━━━━━━━━━━━━━━━━━━━━━━━━━━━━━━━╇━━━━━━━━━━━━━━━━━━━━━━━━━━━━━╇━━━━━━━━━━━━━━━━━┩\n",
              "│ simple_rnn (\u001b[38;5;33mSimpleRNN\u001b[0m)               │ (\u001b[38;5;45mNone\u001b[0m, \u001b[38;5;34m50\u001b[0m)                  │           \u001b[38;5;34m3,050\u001b[0m │\n",
              "├──────────────────────────────────────┼─────────────────────────────┼─────────────────┤\n",
              "│ dense (\u001b[38;5;33mDense\u001b[0m)                        │ (\u001b[38;5;45mNone\u001b[0m, \u001b[38;5;34m3\u001b[0m)                   │             \u001b[38;5;34m153\u001b[0m │\n",
              "└──────────────────────────────────────┴─────────────────────────────┴─────────────────┘\n"
            ],
            "text/html": [
              "<pre style=\"white-space:pre;overflow-x:auto;line-height:normal;font-family:Menlo,'DejaVu Sans Mono',consolas,'Courier New',monospace\">┏━━━━━━━━━━━━━━━━━━━━━━━━━━━━━━━━━━━━━━┳━━━━━━━━━━━━━━━━━━━━━━━━━━━━━┳━━━━━━━━━━━━━━━━━┓\n",
              "┃<span style=\"font-weight: bold\"> Layer (type)                         </span>┃<span style=\"font-weight: bold\"> Output Shape                </span>┃<span style=\"font-weight: bold\">         Param # </span>┃\n",
              "┡━━━━━━━━━━━━━━━━━━━━━━━━━━━━━━━━━━━━━━╇━━━━━━━━━━━━━━━━━━━━━━━━━━━━━╇━━━━━━━━━━━━━━━━━┩\n",
              "│ simple_rnn (<span style=\"color: #0087ff; text-decoration-color: #0087ff\">SimpleRNN</span>)               │ (<span style=\"color: #00d7ff; text-decoration-color: #00d7ff\">None</span>, <span style=\"color: #00af00; text-decoration-color: #00af00\">50</span>)                  │           <span style=\"color: #00af00; text-decoration-color: #00af00\">3,050</span> │\n",
              "├──────────────────────────────────────┼─────────────────────────────┼─────────────────┤\n",
              "│ dense (<span style=\"color: #0087ff; text-decoration-color: #0087ff\">Dense</span>)                        │ (<span style=\"color: #00d7ff; text-decoration-color: #00d7ff\">None</span>, <span style=\"color: #00af00; text-decoration-color: #00af00\">3</span>)                   │             <span style=\"color: #00af00; text-decoration-color: #00af00\">153</span> │\n",
              "└──────────────────────────────────────┴─────────────────────────────┴─────────────────┘\n",
              "</pre>\n"
            ]
          },
          "metadata": {}
        },
        {
          "output_type": "display_data",
          "data": {
            "text/plain": [
              "\u001b[1m Total params: \u001b[0m\u001b[38;5;34m3,203\u001b[0m (12.51 KB)\n"
            ],
            "text/html": [
              "<pre style=\"white-space:pre;overflow-x:auto;line-height:normal;font-family:Menlo,'DejaVu Sans Mono',consolas,'Courier New',monospace\"><span style=\"font-weight: bold\"> Total params: </span><span style=\"color: #00af00; text-decoration-color: #00af00\">3,203</span> (12.51 KB)\n",
              "</pre>\n"
            ]
          },
          "metadata": {}
        },
        {
          "output_type": "display_data",
          "data": {
            "text/plain": [
              "\u001b[1m Trainable params: \u001b[0m\u001b[38;5;34m3,203\u001b[0m (12.51 KB)\n"
            ],
            "text/html": [
              "<pre style=\"white-space:pre;overflow-x:auto;line-height:normal;font-family:Menlo,'DejaVu Sans Mono',consolas,'Courier New',monospace\"><span style=\"font-weight: bold\"> Trainable params: </span><span style=\"color: #00af00; text-decoration-color: #00af00\">3,203</span> (12.51 KB)\n",
              "</pre>\n"
            ]
          },
          "metadata": {}
        },
        {
          "output_type": "display_data",
          "data": {
            "text/plain": [
              "\u001b[1m Non-trainable params: \u001b[0m\u001b[38;5;34m0\u001b[0m (0.00 B)\n"
            ],
            "text/html": [
              "<pre style=\"white-space:pre;overflow-x:auto;line-height:normal;font-family:Menlo,'DejaVu Sans Mono',consolas,'Courier New',monospace\"><span style=\"font-weight: bold\"> Non-trainable params: </span><span style=\"color: #00af00; text-decoration-color: #00af00\">0</span> (0.00 B)\n",
              "</pre>\n"
            ]
          },
          "metadata": {}
        }
      ],
      "source": [
        "import tensorflow as tf\n",
        "from tensorflow.keras.models import Sequential\n",
        "from tensorflow.keras.layers import SimpleRNN, Dense, Input\n",
        "\n",
        "# Define model parameters\n",
        "input_dim = 10  # Number of features in each time step\n",
        "timesteps = 5   # Number of time steps in each sequence\n",
        "num_classes = 3 # Number of output classes\n",
        "\n",
        "# Build the RNN model\n",
        "model = Sequential()\n",
        "\n",
        "# Add an RNN layer\n",
        "model.add(Input(shape=(timesteps, input_dim)))\n",
        "model.add(SimpleRNN(50, return_sequences=False))\n",
        "\n",
        "# Add a dense output layer\n",
        "model.add(Dense(num_classes, activation='softmax'))\n",
        "\n",
        "# Summarize the model\n",
        "model.summary()\n"
      ]
    },
    {
      "cell_type": "markdown",
      "metadata": {
        "id": "V1LfEaQphBK8"
      },
      "source": [
        "**SimpleRNN Layer:**\n",
        "\n",
        "This is the recurrent layer with 50 units (neurons). It takes a sequence of shape (timesteps, input_dim) as input, where timesteps = 5 and input_dim = 10.\n",
        "The parameter `return_sequences=False` means that only the output of the last time step is passed to the next layer.\n",
        "\n",
        "**Dense Layer:**\n",
        "\n",
        "A fully connected layer with num_classes = 3 neurons, each corresponding to one output class. The `activation` function is softmax, which is typically used for multi-class classification tasks."
      ]
    },
    {
      "cell_type": "markdown",
      "metadata": {
        "id": "mdUrCFUwl8n8"
      },
      "source": [
        "# Sample Q/A Use Case with RNN\n",
        "\n",
        "Let's build a **Question Answering problem** and solve it using `SimpleRNN`.\n",
        "\n",
        "Preparing data for **Recurrent Neural Networks(RNNs)** in TensorFlow involves several key steps to ensure that your sequential data is in the right format for training and evaluation.\n",
        "\n"
      ]
    },
    {
      "cell_type": "code",
      "execution_count": 2,
      "metadata": {
        "id": "emUIBm0Smhd1"
      },
      "outputs": [],
      "source": [
        "import numpy as np\n",
        "import tensorflow as tf\n",
        "from tensorflow.keras.preprocessing.text import Tokenizer\n",
        "from tensorflow.keras.preprocessing.sequence import pad_sequences\n",
        "from tensorflow.keras.utils import to_categorical"
      ]
    },
    {
      "cell_type": "code",
      "execution_count": 3,
      "metadata": {
        "id": "Tnk6dHaDeDVD"
      },
      "outputs": [],
      "source": [
        "# Dummy dataset\n",
        "questions = [\n",
        "    \"What is your name?\",\n",
        "    \"How are you?\",\n",
        "    \"What is your profession?\",\n",
        "    \"Where do you live?\",\n",
        "    \"What is your favorite color?\"\n",
        "]\n",
        "\n",
        "# Corresponding answers (encoded as class labels)\n",
        "# We'll assign a unique class to each answer\n",
        "answers = [0, 1, 0, 2, 3]"
      ]
    },
    {
      "cell_type": "markdown",
      "metadata": {
        "id": "199_bQLMm-kC"
      },
      "source": [
        "### Tokenizing and Preprocessing\n",
        "* `Tokenizer`: It is used to convert words in questions into integer sequences.\n",
        "* `pad_sequences`: It ensures that all sequences are of same length by padding shorter sequences with zeros."
      ]
    },
    {
      "cell_type": "code",
      "execution_count": 4,
      "metadata": {
        "id": "_BqNhJApeDTE"
      },
      "outputs": [],
      "source": [
        "# Initialize tokenizer to convert text to sequences\n",
        "\n",
        "tokenizer = Tokenizer()\n",
        "tokenizer.fit_on_texts(questions)"
      ]
    },
    {
      "cell_type": "markdown",
      "metadata": {
        "id": "VUP-KRaMa8Rl"
      },
      "source": [
        "You can check how each word is encoded using `tokenizer.word_index`"
      ]
    },
    {
      "cell_type": "code",
      "execution_count": 6,
      "metadata": {
        "colab": {
          "base_uri": "https://localhost:8080/"
        },
        "id": "ppiCt1JCa47R",
        "outputId": "21541406-e785-48a0-ba83-c4326922cfec"
      },
      "outputs": [
        {
          "output_type": "execute_result",
          "data": {
            "text/plain": [
              "{'what': 1,\n",
              " 'is': 2,\n",
              " 'your': 3,\n",
              " 'you': 4,\n",
              " 'name': 5,\n",
              " 'how': 6,\n",
              " 'are': 7,\n",
              " 'profession': 8,\n",
              " 'where': 9,\n",
              " 'do': 10,\n",
              " 'live': 11,\n",
              " 'favorite': 12,\n",
              " 'color': 13}"
            ]
          },
          "metadata": {},
          "execution_count": 6
        }
      ],
      "source": [
        "tokenizer.word_index"
      ]
    },
    {
      "cell_type": "code",
      "execution_count": 7,
      "metadata": {
        "id": "bw5ZcUnLmf7x"
      },
      "outputs": [],
      "source": [
        "# Convert text to sequences of integers\n",
        "sequences = tokenizer.texts_to_sequences(questions)\n",
        "\n",
        "# Pad sequences to ensure all have the same length\n",
        "max_sequence_length = max(len(seq) for seq in sequences)\n",
        "X = pad_sequences(sequences, maxlen=max_sequence_length)"
      ]
    },
    {
      "cell_type": "code",
      "execution_count": 8,
      "metadata": {
        "colab": {
          "base_uri": "https://localhost:8080/"
        },
        "id": "RltoE3YWsXcr",
        "outputId": "e4edaafb-e977-45b0-8023-aabb07f73cbb"
      },
      "outputs": [
        {
          "output_type": "execute_result",
          "data": {
            "text/plain": [
              "[[1, 2, 3, 5], [6, 7, 4], [1, 2, 3, 8], [9, 10, 4, 11], [1, 2, 3, 12, 13]]"
            ]
          },
          "metadata": {},
          "execution_count": 8
        }
      ],
      "source": [
        "sequences"
      ]
    },
    {
      "cell_type": "code",
      "execution_count": 9,
      "metadata": {
        "colab": {
          "base_uri": "https://localhost:8080/"
        },
        "id": "grZIWrHGmf5i",
        "outputId": "ffc69b8d-4438-41f9-df82-89e785b37b2c"
      },
      "outputs": [
        {
          "output_type": "stream",
          "name": "stdout",
          "text": [
            "Padded Sequences:\n",
            " [[ 0  1  2  3  5]\n",
            " [ 0  0  6  7  4]\n",
            " [ 0  1  2  3  8]\n",
            " [ 0  9 10  4 11]\n",
            " [ 1  2  3 12 13]]\n",
            "\n",
            "Labels:\n",
            " [0 1 0 2 3]\n"
          ]
        }
      ],
      "source": [
        "# Convert answers to numpy array\n",
        "y = np.array(answers)\n",
        "\n",
        "# Print the preprocessed data\n",
        "print(\"Padded Sequences:\\n\", X)\n",
        "print(\"\\nLabels:\\n\", y)"
      ]
    },
    {
      "cell_type": "markdown",
      "metadata": {
        "id": "JPn5Mqf-ao7J"
      },
      "source": [
        "## Build and train a `SimpleRNN` model\n",
        "\n",
        "The **SimpleRNN** layer processes the input sequences. We use an embedding dimension based on the vocabulary size (number of unique words), followed by a `dense` output layer for classification.\n",
        "\n",
        "**Training:**\n",
        "The model is trained for 20 epochs using `sparse_categorical_crossentropy` as the loss function, which is suitable for multi-class classification.\n"
      ]
    },
    {
      "cell_type": "code",
      "execution_count": 10,
      "metadata": {
        "id": "e0W3JvdFb4fw"
      },
      "outputs": [],
      "source": [
        "from tensorflow.keras.models import Sequential\n",
        "from tensorflow.keras.layers import SimpleRNN, Dense, Input"
      ]
    },
    {
      "cell_type": "code",
      "execution_count": 11,
      "metadata": {
        "colab": {
          "base_uri": "https://localhost:8080/"
        },
        "id": "ASJzPF4xmf3r",
        "outputId": "e466f3a6-94d0-4329-973b-75a86d63b13f"
      },
      "outputs": [
        {
          "output_type": "stream",
          "name": "stdout",
          "text": [
            "Epoch 1/20\n"
          ]
        },
        {
          "output_type": "stream",
          "name": "stderr",
          "text": [
            "/usr/local/lib/python3.11/dist-packages/keras/src/layers/rnn/rnn.py:200: UserWarning: Do not pass an `input_shape`/`input_dim` argument to a layer. When using Sequential models, prefer using an `Input(shape)` object as the first layer in the model instead.\n",
            "  super().__init__(**kwargs)\n"
          ]
        },
        {
          "output_type": "stream",
          "name": "stdout",
          "text": [
            "\u001b[1m1/1\u001b[0m \u001b[32m━━━━━━━━━━━━━━━━━━━━\u001b[0m\u001b[37m\u001b[0m \u001b[1m4s\u001b[0m 4s/step - accuracy: 0.2000 - loss: 1.9859\n",
            "Epoch 2/20\n",
            "\u001b[1m1/1\u001b[0m \u001b[32m━━━━━━━━━━━━━━━━━━━━\u001b[0m\u001b[37m\u001b[0m \u001b[1m1s\u001b[0m 671ms/step - accuracy: 0.2000 - loss: 1.8682\n",
            "Epoch 3/20\n",
            "\u001b[1m1/1\u001b[0m \u001b[32m━━━━━━━━━━━━━━━━━━━━\u001b[0m\u001b[37m\u001b[0m \u001b[1m0s\u001b[0m 136ms/step - accuracy: 0.4000 - loss: 1.7567\n",
            "Epoch 4/20\n",
            "\u001b[1m1/1\u001b[0m \u001b[32m━━━━━━━━━━━━━━━━━━━━\u001b[0m\u001b[37m\u001b[0m \u001b[1m0s\u001b[0m 163ms/step - accuracy: 0.4000 - loss: 1.6524\n",
            "Epoch 5/20\n",
            "\u001b[1m1/1\u001b[0m \u001b[32m━━━━━━━━━━━━━━━━━━━━\u001b[0m\u001b[37m\u001b[0m \u001b[1m0s\u001b[0m 87ms/step - accuracy: 0.4000 - loss: 1.5562\n",
            "Epoch 6/20\n",
            "\u001b[1m1/1\u001b[0m \u001b[32m━━━━━━━━━━━━━━━━━━━━\u001b[0m\u001b[37m\u001b[0m \u001b[1m0s\u001b[0m 135ms/step - accuracy: 0.4000 - loss: 1.4688\n",
            "Epoch 7/20\n",
            "\u001b[1m1/1\u001b[0m \u001b[32m━━━━━━━━━━━━━━━━━━━━\u001b[0m\u001b[37m\u001b[0m \u001b[1m0s\u001b[0m 153ms/step - accuracy: 0.4000 - loss: 1.3907\n",
            "Epoch 8/20\n",
            "\u001b[1m1/1\u001b[0m \u001b[32m━━━━━━━━━━━━━━━━━━━━\u001b[0m\u001b[37m\u001b[0m \u001b[1m0s\u001b[0m 63ms/step - accuracy: 0.6000 - loss: 1.3220\n",
            "Epoch 9/20\n",
            "\u001b[1m1/1\u001b[0m \u001b[32m━━━━━━━━━━━━━━━━━━━━\u001b[0m\u001b[37m\u001b[0m \u001b[1m0s\u001b[0m 58ms/step - accuracy: 0.6000 - loss: 1.2625\n",
            "Epoch 10/20\n",
            "\u001b[1m1/1\u001b[0m \u001b[32m━━━━━━━━━━━━━━━━━━━━\u001b[0m\u001b[37m\u001b[0m \u001b[1m0s\u001b[0m 59ms/step - accuracy: 0.6000 - loss: 1.2113\n",
            "Epoch 11/20\n",
            "\u001b[1m1/1\u001b[0m \u001b[32m━━━━━━━━━━━━━━━━━━━━\u001b[0m\u001b[37m\u001b[0m \u001b[1m0s\u001b[0m 57ms/step - accuracy: 0.6000 - loss: 1.1673\n",
            "Epoch 12/20\n",
            "\u001b[1m1/1\u001b[0m \u001b[32m━━━━━━━━━━━━━━━━━━━━\u001b[0m\u001b[37m\u001b[0m \u001b[1m0s\u001b[0m 56ms/step - accuracy: 0.6000 - loss: 1.1291\n",
            "Epoch 13/20\n",
            "\u001b[1m1/1\u001b[0m \u001b[32m━━━━━━━━━━━━━━━━━━━━\u001b[0m\u001b[37m\u001b[0m \u001b[1m0s\u001b[0m 58ms/step - accuracy: 0.6000 - loss: 1.0952\n",
            "Epoch 14/20\n",
            "\u001b[1m1/1\u001b[0m \u001b[32m━━━━━━━━━━━━━━━━━━━━\u001b[0m\u001b[37m\u001b[0m \u001b[1m0s\u001b[0m 56ms/step - accuracy: 0.4000 - loss: 1.0641\n",
            "Epoch 15/20\n",
            "\u001b[1m1/1\u001b[0m \u001b[32m━━━━━━━━━━━━━━━━━━━━\u001b[0m\u001b[37m\u001b[0m \u001b[1m0s\u001b[0m 57ms/step - accuracy: 0.4000 - loss: 1.0347\n",
            "Epoch 16/20\n",
            "\u001b[1m1/1\u001b[0m \u001b[32m━━━━━━━━━━━━━━━━━━━━\u001b[0m\u001b[37m\u001b[0m \u001b[1m0s\u001b[0m 139ms/step - accuracy: 0.4000 - loss: 1.0059\n",
            "Epoch 17/20\n",
            "\u001b[1m1/1\u001b[0m \u001b[32m━━━━━━━━━━━━━━━━━━━━\u001b[0m\u001b[37m\u001b[0m \u001b[1m0s\u001b[0m 55ms/step - accuracy: 0.4000 - loss: 0.9772\n",
            "Epoch 18/20\n",
            "\u001b[1m1/1\u001b[0m \u001b[32m━━━━━━━━━━━━━━━━━━━━\u001b[0m\u001b[37m\u001b[0m \u001b[1m0s\u001b[0m 66ms/step - accuracy: 0.4000 - loss: 0.9483\n",
            "Epoch 19/20\n",
            "\u001b[1m1/1\u001b[0m \u001b[32m━━━━━━━━━━━━━━━━━━━━\u001b[0m\u001b[37m\u001b[0m \u001b[1m0s\u001b[0m 59ms/step - accuracy: 0.4000 - loss: 0.9189\n",
            "Epoch 20/20\n",
            "\u001b[1m1/1\u001b[0m \u001b[32m━━━━━━━━━━━━━━━━━━━━\u001b[0m\u001b[37m\u001b[0m \u001b[1m0s\u001b[0m 58ms/step - accuracy: 0.4000 - loss: 0.8893\n",
            "\u001b[1m1/1\u001b[0m \u001b[32m━━━━━━━━━━━━━━━━━━━━\u001b[0m\u001b[37m\u001b[0m \u001b[1m1s\u001b[0m 913ms/step - accuracy: 0.6000 - loss: 0.8597\n",
            "Model Accuracy: 0.6000\n"
          ]
        }
      ],
      "source": [
        "# Define the model\n",
        "model = Sequential()\n",
        "\n",
        "# Add SimpleRNN layer\n",
        "\n",
        "# 50 units in the RNN\n",
        "model.add(SimpleRNN(50, input_shape=(5, 1))) # Sending 1 feature at each time-step\n",
        "\n",
        "# Output layer (using softmax for multi-class classification)\n",
        "model.add(Dense(4, activation='softmax'))  # 4 unique answer classes\n",
        "\n",
        "# Compile the model\n",
        "model.compile(optimizer='adam', loss='sparse_categorical_crossentropy', metrics=['accuracy'])\n",
        "\n",
        "# Train the model\n",
        "model.fit(X, y, epochs=20, verbose=1)\n",
        "\n",
        "# Evaluate the model\n",
        "loss, accuracy = model.evaluate(X, y, verbose=1)\n",
        "print(f\"Model Accuracy: {accuracy:.4f}\")\n"
      ]
    },
    {
      "cell_type": "markdown",
      "metadata": {
        "id": "jPdwPxkRhHcb"
      },
      "source": [
        "## Inference\n",
        "\n",
        "| Questions                       | Answers |\n",
        "|----------------------------------|---------|\n",
        "| What is your name?               | 0       |\n",
        "| How are you?                     | 1       |\n",
        "| What is your profession?         | 0       |\n",
        "| Where do you live?               | 2       |\n",
        "| What is your favorite color?     | 3       |\n",
        "\n",
        "<br>\n",
        "\n",
        "You can ask the above questions under `new_question` variable and check the output if they are true."
      ]
    },
    {
      "cell_type": "code",
      "execution_count": 12,
      "metadata": {
        "colab": {
          "base_uri": "https://localhost:8080/"
        },
        "id": "Ea5-250Dmf1l",
        "outputId": "ec1e874c-4110-4cb4-c3e6-3edb9bda081a"
      },
      "outputs": [
        {
          "output_type": "stream",
          "name": "stdout",
          "text": [
            "\u001b[1m1/1\u001b[0m \u001b[32m━━━━━━━━━━━━━━━━━━━━\u001b[0m\u001b[37m\u001b[0m \u001b[1m1s\u001b[0m 533ms/step\n",
            "\n",
            "Predicted Answer: 1\n"
          ]
        }
      ],
      "source": [
        "# New question for inference\n",
        "new_question = [\"How are you?\"]\n",
        "\n",
        "# Tokenize the new question (same tokenizer used during training)\n",
        "new_sequence = tokenizer.texts_to_sequences(new_question)\n",
        "\n",
        "# Pad the new sequence to the same length as the training data\n",
        "new_padded_sequence = pad_sequences(new_sequence, maxlen=max_sequence_length)\n",
        "\n",
        "# new_padded_sequence = to_categorical(new_padded_sequence, num_classes=vocab_size)\n",
        "\n",
        "# Make prediction\n",
        "predicted_probabilities = model.predict(new_padded_sequence)\n",
        "\n",
        "# Get the predicted class (answer) with the highest probability\n",
        "predicted_class = np.argmax(predicted_probabilities)\n",
        "\n",
        "# Print the predicted class\n",
        "print(f\"\\nPredicted Answer: {predicted_class}\")\n"
      ]
    },
    {
      "cell_type": "markdown",
      "metadata": {
        "id": "0wlv5IpFIF-N"
      },
      "source": [
        "## Embedding Layer\n",
        "\n",
        "\n",
        "\n",
        "It's primarily used to map categorical data, such as words or items, into a continuous vector space. This vector space is learned during the training process and allows the model to capture semantic relationships and similarities between the items.\n",
        "\n",
        "**Commonly used to represent words as dense vectors, capturing semantic similarities and relationships.**\n",
        "\n",
        "<img src='https://www.researchgate.net/publication/349630764/figure/fig3/AS:999014610788354@1615195052671/Detail-of-the-embedding-layer-of-the-NN-implementing-the-Encoding-model-used-for-the.png' width=400/>\n",
        "\n",
        "**Benefits:**\n",
        "* The learned embeddings often capture semantic relationships between the items. For example, words with similar meanings might be located closer together in the embedding space.\n",
        "* Using embeddings can significantly improve the performance of neural networks on tasks like text classification, machine translation, and recommendation systems.\n",
        "* Embeddings reduce the high-dimensional categorical data into a lower-dimensional, dense vector space. This makes it easier for the neural network to process and learn patterns.\n",
        "\n",
        "[`tf.keras.layers.Embedding`](https://www.tensorflow.org/api_docs/python/tf/keras/layers/Embedding)\n"
      ]
    },
    {
      "cell_type": "code",
      "execution_count": 13,
      "metadata": {
        "id": "ibWM1tr8JjBA"
      },
      "outputs": [],
      "source": [
        "import tensorflow as tf\n",
        "\n",
        "# Sample input text\n",
        "input_text = [\"hello world\", \"this is a sentence\"]\n",
        "\n",
        "# Create a vocabulary mapping words to unique indices\n",
        "vocab = [\"hello\", \"world\", \"this\", \"is\", \"a\", \"sentence\"]\n",
        "word_to_index = {word: i for i, word in enumerate(vocab)}"
      ]
    },
    {
      "cell_type": "code",
      "execution_count": 14,
      "metadata": {
        "id": "ycDe8wFvKkfO"
      },
      "outputs": [],
      "source": [
        "# Convert input text to sequences of indices\n",
        "input_sequences = [[word_to_index[word] for word in sentence.split()] for sentence in input_text]\n",
        "\n",
        "# Create an embedding layer with a vocabulary size of 6 (matching the number of words),\n",
        "# an embedding dimension of 10, and padding to ensure all sequences have the same length\n",
        "embedding_layer = tf.keras.layers.Embedding(input_dim=len(vocab), output_dim=10)\n"
      ]
    },
    {
      "cell_type": "code",
      "execution_count": 15,
      "metadata": {
        "colab": {
          "base_uri": "https://localhost:8080/"
        },
        "id": "jdTFiK9UKCbM",
        "outputId": "0ce27580-a3b1-437b-8c07-15182ec3e00f"
      },
      "outputs": [
        {
          "output_type": "stream",
          "name": "stdout",
          "text": [
            "[[0, 1], [2, 3, 4, 5]]\n"
          ]
        }
      ],
      "source": [
        "print(input_sequences)"
      ]
    },
    {
      "cell_type": "markdown",
      "metadata": {
        "id": "GcHezMqyLzH_"
      },
      "source": [
        "Input sentences represented in a sequence of numbers."
      ]
    },
    {
      "cell_type": "code",
      "execution_count": 16,
      "metadata": {
        "colab": {
          "base_uri": "https://localhost:8080/"
        },
        "id": "9MS9lCTqKl3c",
        "outputId": "4c93de4c-0394-49b1-b6c5-dc24e82130d0"
      },
      "outputs": [
        {
          "output_type": "stream",
          "name": "stdout",
          "text": [
            "tf.Tensor(\n",
            "[[[-0.02405283 -0.03073691  0.02709507 -0.04085281 -0.00851619\n",
            "   -0.03708656 -0.02054968 -0.04535662 -0.04495146 -0.00806759]\n",
            "  [-0.02405283 -0.03073691  0.02709507 -0.04085281 -0.00851619\n",
            "   -0.03708656 -0.02054968 -0.04535662 -0.04495146 -0.00806759]\n",
            "  [-0.02405283 -0.03073691  0.02709507 -0.04085281 -0.00851619\n",
            "   -0.03708656 -0.02054968 -0.04535662 -0.04495146 -0.00806759]\n",
            "  [-0.01379069  0.03475262  0.02833304  0.00818665  0.02325815\n",
            "   -0.00518384  0.02228986  0.04239818  0.01296797  0.00076644]]\n",
            "\n",
            " [[ 0.04238058 -0.04101568  0.00941432 -0.00090975 -0.02838112\n",
            "    0.00518947 -0.00754134 -0.01735317  0.02870938  0.04599564]\n",
            "  [ 0.03561736  0.03583357  0.03134284 -0.00431619  0.04234233\n",
            "    0.01993709  0.04453839 -0.04851894 -0.02968799 -0.01453678]\n",
            "  [ 0.00481052  0.01910292  0.01233824 -0.03568374  0.03372056\n",
            "    0.02566941  0.01277887  0.01749952 -0.03254207 -0.00749085]\n",
            "  [ 0.01914736  0.00511693  0.03383804 -0.03717122 -0.04929255\n",
            "   -0.01373112  0.01342806 -0.02777072 -0.02750639 -0.00780418]]], shape=(2, 4, 10), dtype=float32)\n"
          ]
        }
      ],
      "source": [
        "# Pad sequences using tf.keras.preprocessing.sequence.pad_sequences\n",
        "from tensorflow.keras.preprocessing.sequence import pad_sequences\n",
        "input_sequences = pad_sequences(input_sequences)\n",
        "\n",
        "# Convert input_sequences to a tensor\n",
        "input_sequences = tf.convert_to_tensor(input_sequences)\n",
        "\n",
        "# Embed the input sequences\n",
        "embedded_sequences = embedding_layer(input_sequences)\n",
        "\n",
        "# Print the embedded sequences\n",
        "print(embedded_sequences)"
      ]
    },
    {
      "cell_type": "markdown",
      "metadata": {
        "id": "8Ky3NlVEL6zq"
      },
      "source": [
        "Now both the sentences are represented as a sequence of vectors."
      ]
    },
    {
      "cell_type": "markdown",
      "metadata": {
        "id": "3acd-Fq00wdx"
      },
      "source": [
        "# Sentiment Analysis using RNN"
      ]
    },
    {
      "cell_type": "code",
      "execution_count": 17,
      "metadata": {
        "id": "ucnFs8RH9vWA",
        "colab": {
          "base_uri": "https://localhost:8080/"
        },
        "outputId": "75e052ec-4039-4096-cb63-cd052c9b6a46"
      },
      "outputs": [
        {
          "output_type": "stream",
          "name": "stdout",
          "text": [
            "Downloading data from https://storage.googleapis.com/tensorflow/tf-keras-datasets/imdb.npz\n",
            "\u001b[1m17464789/17464789\u001b[0m \u001b[32m━━━━━━━━━━━━━━━━━━━━\u001b[0m\u001b[37m\u001b[0m \u001b[1m0s\u001b[0m 0us/step\n"
          ]
        }
      ],
      "source": [
        "import tensorflow as tf\n",
        "from tensorflow.keras.preprocessing.text import Tokenizer\n",
        "from tensorflow.keras.preprocessing.sequence import pad_sequences\n",
        "\n",
        "# Load the IMDB dataset\n",
        "data = tf.keras.datasets.imdb.load_data()\n",
        "(x_train, y_train), (x_test, y_test) = data"
      ]
    },
    {
      "cell_type": "markdown",
      "metadata": {
        "id": "M6NdQjlN9RWS"
      },
      "source": [
        "All the reviews in this dataset have already been tokenized. <br>\n",
        "If we check the first review in the training set,"
      ]
    },
    {
      "cell_type": "code",
      "execution_count": 18,
      "metadata": {
        "colab": {
          "base_uri": "https://localhost:8080/"
        },
        "id": "vvWpurtc6OGT",
        "outputId": "0af92063-dac0-4977-c5a6-c154dc3e6d7b"
      },
      "outputs": [
        {
          "output_type": "stream",
          "name": "stdout",
          "text": [
            "First review in the training set:\n",
            " [1, 14, 22, 16, 43, 530, 973, 1622, 1385, 65, 458, 4468, 66, 3941, 4, 173, 36, 256, 5, 25, 100, 43, 838, 112, 50, 670, 22665, 9, 35, 480, 284, 5, 150, 4, 172, 112, 167, 21631, 336, 385, 39, 4, 172, 4536, 1111, 17, 546, 38, 13, 447, 4, 192, 50, 16, 6, 147, 2025, 19, 14, 22, 4, 1920, 4613, 469, 4, 22, 71, 87, 12, 16, 43, 530, 38, 76, 15, 13, 1247, 4, 22, 17, 515, 17, 12, 16, 626, 18, 19193, 5, 62, 386, 12, 8, 316, 8, 106, 5, 4, 2223, 5244, 16, 480, 66, 3785, 33, 4, 130, 12, 16, 38, 619, 5, 25, 124, 51, 36, 135, 48, 25, 1415, 33, 6, 22, 12, 215, 28, 77, 52, 5, 14, 407, 16, 82, 10311, 8, 4, 107, 117, 5952, 15, 256, 4, 31050, 7, 3766, 5, 723, 36, 71, 43, 530, 476, 26, 400, 317, 46, 7, 4, 12118, 1029, 13, 104, 88, 4, 381, 15, 297, 98, 32, 2071, 56, 26, 141, 6, 194, 7486, 18, 4, 226, 22, 21, 134, 476, 26, 480, 5, 144, 30, 5535, 18, 51, 36, 28, 224, 92, 25, 104, 4, 226, 65, 16, 38, 1334, 88, 12, 16, 283, 5, 16, 4472, 113, 103, 32, 15, 16, 5345, 19, 178, 32] length: 218 class: 1\n"
          ]
        }
      ],
      "source": [
        "print(\"First review in the training set:\\n\", x_train[0], \"length:\", len(x_train[0]), \"class:\", y_train[0])\n"
      ]
    },
    {
      "cell_type": "code",
      "execution_count": 19,
      "metadata": {
        "id": "WmSdWmTS9zQD"
      },
      "outputs": [],
      "source": [
        "vocab_size = 10000  # Limit the vocabulary size to the top 10,000 words\n",
        "maxlen = 200  # Limit each review to 200 words\n",
        "\n",
        "# Pad sequences to have the same length\n",
        "x_train = pad_sequences(x_train,padding='post',maxlen=maxlen)\n",
        "x_test = pad_sequences(x_test,padding='post',maxlen=maxlen)\n"
      ]
    },
    {
      "cell_type": "markdown",
      "metadata": {
        "id": "j2LVFNRe-Gmh"
      },
      "source": [
        "The max length of sequence is quite huge. Hence, we try to limit it to a max length of 100 to avoid inconsistencies while training."
      ]
    },
    {
      "cell_type": "code",
      "execution_count": 20,
      "metadata": {
        "colab": {
          "base_uri": "https://localhost:8080/"
        },
        "id": "DP7CB-VYAQky",
        "outputId": "878c56aa-379e-4def-b6a8-d94b48e6868b"
      },
      "outputs": [
        {
          "output_type": "execute_result",
          "data": {
            "text/plain": [
              "(25000, 200)"
            ]
          },
          "metadata": {},
          "execution_count": 20
        }
      ],
      "source": [
        "x_train.shape"
      ]
    },
    {
      "cell_type": "code",
      "execution_count": 21,
      "metadata": {
        "colab": {
          "base_uri": "https://localhost:8080/",
          "height": 225
        },
        "id": "z4XhrbFr0HXn",
        "outputId": "260a35e9-ce2b-48cd-a128-3f649e193139"
      },
      "outputs": [
        {
          "output_type": "display_data",
          "data": {
            "text/plain": [
              "\u001b[1mModel: \"sequential_2\"\u001b[0m\n"
            ],
            "text/html": [
              "<pre style=\"white-space:pre;overflow-x:auto;line-height:normal;font-family:Menlo,'DejaVu Sans Mono',consolas,'Courier New',monospace\"><span style=\"font-weight: bold\">Model: \"sequential_2\"</span>\n",
              "</pre>\n"
            ]
          },
          "metadata": {}
        },
        {
          "output_type": "display_data",
          "data": {
            "text/plain": [
              "┏━━━━━━━━━━━━━━━━━━━━━━━━━━━━━━━━━━━━━━┳━━━━━━━━━━━━━━━━━━━━━━━━━━━━━┳━━━━━━━━━━━━━━━━━┓\n",
              "┃\u001b[1m \u001b[0m\u001b[1mLayer (type)                        \u001b[0m\u001b[1m \u001b[0m┃\u001b[1m \u001b[0m\u001b[1mOutput Shape               \u001b[0m\u001b[1m \u001b[0m┃\u001b[1m \u001b[0m\u001b[1m        Param #\u001b[0m\u001b[1m \u001b[0m┃\n",
              "┡━━━━━━━━━━━━━━━━━━━━━━━━━━━━━━━━━━━━━━╇━━━━━━━━━━━━━━━━━━━━━━━━━━━━━╇━━━━━━━━━━━━━━━━━┩\n",
              "│ embedding_1 (\u001b[38;5;33mEmbedding\u001b[0m)              │ ?                           │     \u001b[38;5;34m0\u001b[0m (unbuilt) │\n",
              "├──────────────────────────────────────┼─────────────────────────────┼─────────────────┤\n",
              "│ simple_rnn_2 (\u001b[38;5;33mSimpleRNN\u001b[0m)             │ ?                           │     \u001b[38;5;34m0\u001b[0m (unbuilt) │\n",
              "├──────────────────────────────────────┼─────────────────────────────┼─────────────────┤\n",
              "│ dense_2 (\u001b[38;5;33mDense\u001b[0m)                      │ ?                           │     \u001b[38;5;34m0\u001b[0m (unbuilt) │\n",
              "└──────────────────────────────────────┴─────────────────────────────┴─────────────────┘\n"
            ],
            "text/html": [
              "<pre style=\"white-space:pre;overflow-x:auto;line-height:normal;font-family:Menlo,'DejaVu Sans Mono',consolas,'Courier New',monospace\">┏━━━━━━━━━━━━━━━━━━━━━━━━━━━━━━━━━━━━━━┳━━━━━━━━━━━━━━━━━━━━━━━━━━━━━┳━━━━━━━━━━━━━━━━━┓\n",
              "┃<span style=\"font-weight: bold\"> Layer (type)                         </span>┃<span style=\"font-weight: bold\"> Output Shape                </span>┃<span style=\"font-weight: bold\">         Param # </span>┃\n",
              "┡━━━━━━━━━━━━━━━━━━━━━━━━━━━━━━━━━━━━━━╇━━━━━━━━━━━━━━━━━━━━━━━━━━━━━╇━━━━━━━━━━━━━━━━━┩\n",
              "│ embedding_1 (<span style=\"color: #0087ff; text-decoration-color: #0087ff\">Embedding</span>)              │ ?                           │     <span style=\"color: #00af00; text-decoration-color: #00af00\">0</span> (unbuilt) │\n",
              "├──────────────────────────────────────┼─────────────────────────────┼─────────────────┤\n",
              "│ simple_rnn_2 (<span style=\"color: #0087ff; text-decoration-color: #0087ff\">SimpleRNN</span>)             │ ?                           │     <span style=\"color: #00af00; text-decoration-color: #00af00\">0</span> (unbuilt) │\n",
              "├──────────────────────────────────────┼─────────────────────────────┼─────────────────┤\n",
              "│ dense_2 (<span style=\"color: #0087ff; text-decoration-color: #0087ff\">Dense</span>)                      │ ?                           │     <span style=\"color: #00af00; text-decoration-color: #00af00\">0</span> (unbuilt) │\n",
              "└──────────────────────────────────────┴─────────────────────────────┴─────────────────┘\n",
              "</pre>\n"
            ]
          },
          "metadata": {}
        },
        {
          "output_type": "display_data",
          "data": {
            "text/plain": [
              "\u001b[1m Total params: \u001b[0m\u001b[38;5;34m0\u001b[0m (0.00 B)\n"
            ],
            "text/html": [
              "<pre style=\"white-space:pre;overflow-x:auto;line-height:normal;font-family:Menlo,'DejaVu Sans Mono',consolas,'Courier New',monospace\"><span style=\"font-weight: bold\"> Total params: </span><span style=\"color: #00af00; text-decoration-color: #00af00\">0</span> (0.00 B)\n",
              "</pre>\n"
            ]
          },
          "metadata": {}
        },
        {
          "output_type": "display_data",
          "data": {
            "text/plain": [
              "\u001b[1m Trainable params: \u001b[0m\u001b[38;5;34m0\u001b[0m (0.00 B)\n"
            ],
            "text/html": [
              "<pre style=\"white-space:pre;overflow-x:auto;line-height:normal;font-family:Menlo,'DejaVu Sans Mono',consolas,'Courier New',monospace\"><span style=\"font-weight: bold\"> Trainable params: </span><span style=\"color: #00af00; text-decoration-color: #00af00\">0</span> (0.00 B)\n",
              "</pre>\n"
            ]
          },
          "metadata": {}
        },
        {
          "output_type": "display_data",
          "data": {
            "text/plain": [
              "\u001b[1m Non-trainable params: \u001b[0m\u001b[38;5;34m0\u001b[0m (0.00 B)\n"
            ],
            "text/html": [
              "<pre style=\"white-space:pre;overflow-x:auto;line-height:normal;font-family:Menlo,'DejaVu Sans Mono',consolas,'Courier New',monospace\"><span style=\"font-weight: bold\"> Non-trainable params: </span><span style=\"color: #00af00; text-decoration-color: #00af00\">0</span> (0.00 B)\n",
              "</pre>\n"
            ]
          },
          "metadata": {}
        }
      ],
      "source": [
        "\n",
        "# Create an RNN model\n",
        "model = tf.keras.Sequential([\n",
        "    tf.keras.layers.Embedding(vocab_size, 32),\n",
        "    tf.keras.layers.SimpleRNN(64),\n",
        "    tf.keras.layers.Dense(1, activation='sigmoid')\n",
        "])\n",
        "\n",
        "model.summary()"
      ]
    },
    {
      "cell_type": "code",
      "execution_count": 22,
      "metadata": {
        "colab": {
          "base_uri": "https://localhost:8080/"
        },
        "id": "5ZmtvtMcACIs",
        "outputId": "85b89761-821a-4484-f286-c0f3bdd68e56"
      },
      "outputs": [
        {
          "output_type": "stream",
          "name": "stdout",
          "text": [
            "Epoch 1/10\n",
            "\u001b[1m313/313\u001b[0m \u001b[32m━━━━━━━━━━━━━━━━━━━━\u001b[0m\u001b[37m\u001b[0m \u001b[1m11s\u001b[0m 22ms/step - accuracy: 0.5139 - loss: 0.6944 - val_accuracy: 0.5148 - val_loss: 0.6982\n",
            "Epoch 2/10\n",
            "\u001b[1m313/313\u001b[0m \u001b[32m━━━━━━━━━━━━━━━━━━━━\u001b[0m\u001b[37m\u001b[0m \u001b[1m7s\u001b[0m 16ms/step - accuracy: 0.5270 - loss: 0.6903 - val_accuracy: 0.5374 - val_loss: 0.6834\n",
            "Epoch 3/10\n",
            "\u001b[1m313/313\u001b[0m \u001b[32m━━━━━━━━━━━━━━━━━━━━\u001b[0m\u001b[37m\u001b[0m \u001b[1m10s\u001b[0m 17ms/step - accuracy: 0.5708 - loss: 0.6691 - val_accuracy: 0.5668 - val_loss: 0.6623\n",
            "Epoch 4/10\n",
            "\u001b[1m313/313\u001b[0m \u001b[32m━━━━━━━━━━━━━━━━━━━━\u001b[0m\u001b[37m\u001b[0m \u001b[1m5s\u001b[0m 17ms/step - accuracy: 0.6186 - loss: 0.6444 - val_accuracy: 0.5712 - val_loss: 0.6633\n",
            "Epoch 5/10\n",
            "\u001b[1m313/313\u001b[0m \u001b[32m━━━━━━━━━━━━━━━━━━━━\u001b[0m\u001b[37m\u001b[0m \u001b[1m10s\u001b[0m 16ms/step - accuracy: 0.6352 - loss: 0.6210 - val_accuracy: 0.5948 - val_loss: 0.6933\n",
            "Epoch 6/10\n",
            "\u001b[1m313/313\u001b[0m \u001b[32m━━━━━━━━━━━━━━━━━━━━\u001b[0m\u001b[37m\u001b[0m \u001b[1m11s\u001b[0m 17ms/step - accuracy: 0.6532 - loss: 0.6137 - val_accuracy: 0.5438 - val_loss: 0.6749\n",
            "Epoch 7/10\n",
            "\u001b[1m313/313\u001b[0m \u001b[32m━━━━━━━━━━━━━━━━━━━━\u001b[0m\u001b[37m\u001b[0m \u001b[1m5s\u001b[0m 16ms/step - accuracy: 0.6106 - loss: 0.6235 - val_accuracy: 0.5332 - val_loss: 0.6698\n",
            "Epoch 8/10\n",
            "\u001b[1m313/313\u001b[0m \u001b[32m━━━━━━━━━━━━━━━━━━━━\u001b[0m\u001b[37m\u001b[0m \u001b[1m5s\u001b[0m 16ms/step - accuracy: 0.6282 - loss: 0.5981 - val_accuracy: 0.5498 - val_loss: 0.6689\n",
            "Epoch 9/10\n",
            "\u001b[1m313/313\u001b[0m \u001b[32m━━━━━━━━━━━━━━━━━━━━\u001b[0m\u001b[37m\u001b[0m \u001b[1m5s\u001b[0m 16ms/step - accuracy: 0.6406 - loss: 0.5760 - val_accuracy: 0.5714 - val_loss: 0.6979\n",
            "Epoch 10/10\n",
            "\u001b[1m313/313\u001b[0m \u001b[32m━━━━━━━━━━━━━━━━━━━━\u001b[0m\u001b[37m\u001b[0m \u001b[1m5s\u001b[0m 17ms/step - accuracy: 0.6546 - loss: 0.5588 - val_accuracy: 0.5696 - val_loss: 0.6981\n"
          ]
        },
        {
          "output_type": "execute_result",
          "data": {
            "text/plain": [
              "<keras.src.callbacks.history.History at 0x7e1b02200b50>"
            ]
          },
          "metadata": {},
          "execution_count": 22
        }
      ],
      "source": [
        "# Compile the model\n",
        "model.compile(optimizer='adam', loss='binary_crossentropy', metrics=['accuracy'])\n",
        "\n",
        "# Train the model\n",
        "model.fit(x_train, y_train, epochs=10, batch_size=64, validation_split=0.2)"
      ]
    },
    {
      "cell_type": "code",
      "execution_count": 23,
      "metadata": {
        "colab": {
          "base_uri": "https://localhost:8080/"
        },
        "id": "fT1f2_3e3tQc",
        "outputId": "e90fd35e-0cfc-4e4f-b451-fb86e5e5931a"
      },
      "outputs": [
        {
          "output_type": "stream",
          "name": "stdout",
          "text": [
            "\u001b[1m782/782\u001b[0m \u001b[32m━━━━━━━━━━━━━━━━━━━━\u001b[0m\u001b[37m\u001b[0m \u001b[1m4s\u001b[0m 5ms/step - accuracy: 0.5715 - loss: 0.6895\n",
            "Test Accuracy: 0.5658\n"
          ]
        }
      ],
      "source": [
        "loss, accuracy = model.evaluate(x_test, y_test)\n",
        "print(f'Test Accuracy: {accuracy:.4f}')"
      ]
    },
    {
      "cell_type": "code",
      "execution_count": 24,
      "metadata": {
        "colab": {
          "base_uri": "https://localhost:8080/"
        },
        "id": "dVsBURxY0HTW",
        "outputId": "df395448-1ce1-485e-f609-7e88ec689924"
      },
      "outputs": [
        {
          "output_type": "stream",
          "name": "stdout",
          "text": [
            "\u001b[1m1/1\u001b[0m \u001b[32m━━━━━━━━━━━━━━━━━━━━\u001b[0m\u001b[37m\u001b[0m \u001b[1m0s\u001b[0m 341ms/step\n",
            "[[0.5944504]]\n",
            "Positive sentiment\n"
          ]
        }
      ],
      "source": [
        "# Assuming you have the model and tokenizer defined as in the previous code\n",
        "\n",
        "tokenizer = Tokenizer(num_words=100)\n",
        "\n",
        "# Convert a new text to a sequence\n",
        "new_text = \"the movie was bad!\"\n",
        "tokenizer.fit_on_texts(new_text)\n",
        "new_sequence = tokenizer.texts_to_sequences([new_text])\n",
        "new_sequence = pad_sequences(new_sequence, maxlen=100)\n",
        "\n",
        "# Make a prediction\n",
        "prediction = model.predict(new_sequence)\n",
        "\n",
        "print(prediction)\n",
        "# Interpret the prediction (assuming a binary classification task)\n",
        "if prediction[0][0] > 0.5:\n",
        "    print(\"Positive sentiment\")\n",
        "else:\n",
        "    print(\"Negative sentiment\")"
      ]
    },
    {
      "cell_type": "markdown",
      "metadata": {
        "id": "oCcp6RxcGsy0"
      },
      "source": [
        "## Improvement Strategies\n",
        "\n",
        "Consider the following strategies to help improve the accuracy of the above model.\n",
        "\n",
        "1. **Increase max length of sequence:** Increasing the maxlen might help in increasing the accuracy as more information from each review would be available to the model.\n",
        "2. **Increase the number of epochs**: The model might need more training iterations to learn the patterns in the data effectively.\n",
        "3. **Add more RNN layers:** Stacking multiple RNN layers can help the model capture more complex dependencies in the sequence.\n",
        "  * **Increase the number of units in the RNN layers:** More units can enhance the model's capacity to learn intricate patterns.\n",
        "4. **Adjust the learning rate:** Fine-tuning the learning rate can impact the model's convergence speed and performance.\n"
      ]
    },
    {
      "cell_type": "code",
      "execution_count": null,
      "metadata": {
        "id": "25CivCq5eDP1"
      },
      "outputs": [],
      "source": []
    },
    {
      "cell_type": "code",
      "execution_count": null,
      "metadata": {
        "id": "dKqYKqxj58xI"
      },
      "outputs": [],
      "source": []
    },
    {
      "cell_type": "code",
      "execution_count": null,
      "metadata": {
        "id": "v3KEC5ux58vA"
      },
      "outputs": [],
      "source": []
    },
    {
      "cell_type": "code",
      "execution_count": null,
      "metadata": {
        "id": "XLVpbxdG58su"
      },
      "outputs": [],
      "source": []
    },
    {
      "cell_type": "code",
      "execution_count": null,
      "metadata": {
        "id": "DD4e1LHC58pN"
      },
      "outputs": [],
      "source": []
    },
    {
      "cell_type": "code",
      "execution_count": null,
      "metadata": {
        "id": "W9CoJ3eV58nM"
      },
      "outputs": [],
      "source": []
    },
    {
      "cell_type": "code",
      "execution_count": null,
      "metadata": {
        "id": "fFFPMmOw58kz"
      },
      "outputs": [],
      "source": []
    }
  ],
  "metadata": {
    "accelerator": "GPU",
    "colab": {
      "gpuType": "T4",
      "provenance": []
    },
    "kernelspec": {
      "display_name": "Python 3",
      "name": "python3"
    },
    "language_info": {
      "name": "python"
    }
  },
  "nbformat": 4,
  "nbformat_minor": 0
}